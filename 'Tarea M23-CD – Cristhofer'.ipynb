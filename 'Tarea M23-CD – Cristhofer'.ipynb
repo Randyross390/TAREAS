{
 "cells": [
  {
   "cell_type": "code",
   "execution_count": 418,
   "metadata": {},
   "outputs": [],
   "source": [
    "import pandas as pd\n",
    "from sklearn.tree import DecisionTreeClassifier\n",
    "from sklearn.model_selection import train_test_split\n",
    "from sklearn import metrics\n",
    "import matplotlib.pyplot as plt\n",
    "import warnings\n",
    "warnings.filterwarnings('ignore')\n",
    "import os"
   ]
  },
  {
   "cell_type": "code",
   "execution_count": 419,
   "metadata": {},
   "outputs": [
    {
     "data": {
      "text/html": [
       "<div>\n",
       "<style scoped>\n",
       "    .dataframe tbody tr th:only-of-type {\n",
       "        vertical-align: middle;\n",
       "    }\n",
       "\n",
       "    .dataframe tbody tr th {\n",
       "        vertical-align: top;\n",
       "    }\n",
       "\n",
       "    .dataframe thead th {\n",
       "        text-align: right;\n",
       "    }\n",
       "</style>\n",
       "<table border=\"1\" class=\"dataframe\">\n",
       "  <thead>\n",
       "    <tr style=\"text-align: right;\">\n",
       "      <th></th>\n",
       "      <th>Age</th>\n",
       "      <th>Sex</th>\n",
       "      <th>BP</th>\n",
       "      <th>Cholesterol</th>\n",
       "      <th>Na_to_K</th>\n",
       "      <th>Drug</th>\n",
       "    </tr>\n",
       "  </thead>\n",
       "  <tbody>\n",
       "    <tr>\n",
       "      <th>0</th>\n",
       "      <td>23</td>\n",
       "      <td>F</td>\n",
       "      <td>HIGH</td>\n",
       "      <td>HIGH</td>\n",
       "      <td>25.355</td>\n",
       "      <td>drugY</td>\n",
       "    </tr>\n",
       "    <tr>\n",
       "      <th>1</th>\n",
       "      <td>47</td>\n",
       "      <td>M</td>\n",
       "      <td>LOW</td>\n",
       "      <td>HIGH</td>\n",
       "      <td>13.093</td>\n",
       "      <td>drugC</td>\n",
       "    </tr>\n",
       "    <tr>\n",
       "      <th>2</th>\n",
       "      <td>47</td>\n",
       "      <td>M</td>\n",
       "      <td>LOW</td>\n",
       "      <td>HIGH</td>\n",
       "      <td>10.114</td>\n",
       "      <td>drugC</td>\n",
       "    </tr>\n",
       "    <tr>\n",
       "      <th>3</th>\n",
       "      <td>28</td>\n",
       "      <td>F</td>\n",
       "      <td>NORMAL</td>\n",
       "      <td>HIGH</td>\n",
       "      <td>7.798</td>\n",
       "      <td>drugX</td>\n",
       "    </tr>\n",
       "    <tr>\n",
       "      <th>4</th>\n",
       "      <td>61</td>\n",
       "      <td>F</td>\n",
       "      <td>LOW</td>\n",
       "      <td>HIGH</td>\n",
       "      <td>18.043</td>\n",
       "      <td>drugY</td>\n",
       "    </tr>\n",
       "  </tbody>\n",
       "</table>\n",
       "</div>"
      ],
      "text/plain": [
       "   Age Sex      BP Cholesterol  Na_to_K   Drug\n",
       "0   23   F    HIGH        HIGH   25.355  drugY\n",
       "1   47   M     LOW        HIGH   13.093  drugC\n",
       "2   47   M     LOW        HIGH   10.114  drugC\n",
       "3   28   F  NORMAL        HIGH    7.798  drugX\n",
       "4   61   F     LOW        HIGH   18.043  drugY"
      ]
     },
     "execution_count": 419,
     "metadata": {},
     "output_type": "execute_result"
    }
   ],
   "source": [
    "ubicacion = r\"C:\\Users\\randy\\EBAC.PRACTICAS\\drugs (1).csv\"\n",
    "df = pd.read_csv('drugs (1).csv')\n",
    "df.head()"
   ]
  },
  {
   "cell_type": "code",
   "execution_count": 420,
   "metadata": {},
   "outputs": [
    {
     "name": "stdout",
     "output_type": "stream",
     "text": [
      "['drugY' 'drugC' 'drugX' 'drugA' 'drugB']\n"
     ]
    }
   ],
   "source": [
    "# Checamos los valores de la variable a predecir 'Drug'\n",
    "valores_unicos_Drug = df['Drug'].unique()\n",
    "print(valores_unicos_Drug)"
   ]
  },
  {
   "cell_type": "code",
   "execution_count": 421,
   "metadata": {},
   "outputs": [
    {
     "name": "stdout",
     "output_type": "stream",
     "text": [
      "['HIGH' 'NORMAL']\n"
     ]
    }
   ],
   "source": [
    "# Checamos los valores de la variable 'Cholesterol' para identificar que modificaciones se le pueden hacer\n",
    "valores_unicos_cholesterol = df['Cholesterol'].unique()\n",
    "print(valores_unicos_cholesterol)"
   ]
  },
  {
   "cell_type": "code",
   "execution_count": 422,
   "metadata": {},
   "outputs": [
    {
     "name": "stdout",
     "output_type": "stream",
     "text": [
      "['HIGH' 'LOW' 'NORMAL']\n"
     ]
    }
   ],
   "source": [
    "# Checamos los valores de la variable 'BP' para identificar que modificaciones se le pueden hacer\n",
    "valores_unicos_BP = df['BP'].unique()\n",
    "print(valores_unicos_BP)"
   ]
  },
  {
   "cell_type": "code",
   "execution_count": 423,
   "metadata": {},
   "outputs": [
    {
     "data": {
      "text/plain": [
       "Age              int64\n",
       "Sex             object\n",
       "BP              object\n",
       "Cholesterol     object\n",
       "Na_to_K        float64\n",
       "Drug            object\n",
       "dtype: object"
      ]
     },
     "execution_count": 423,
     "metadata": {},
     "output_type": "execute_result"
    }
   ],
   "source": [
    "df.dtypes"
   ]
  },
  {
   "cell_type": "code",
   "execution_count": 424,
   "metadata": {},
   "outputs": [],
   "source": [
    "df_encoded = df.copy()"
   ]
  },
  {
   "cell_type": "code",
   "execution_count": 425,
   "metadata": {},
   "outputs": [],
   "source": [
    "label_encoders = {}\n",
    "feature_cools = ['Age', 'Sex', 'BP', 'Cholesterol', 'Na_to_K']"
   ]
  },
  {
   "cell_type": "code",
   "execution_count": 426,
   "metadata": {},
   "outputs": [],
   "source": [
    "label_encoders = {}  # Guardar los encoders por si se necesitan después\n",
    "for col in feature_cools:\n",
    "    le = preprocessing.LabelEncoder()\n",
    "    df_encoded[col] = le.fit_transform(df_encoded[col])\n",
    "    label_encoders[col] = le  # Guardar el encoder para futuras conversiones inversas"
   ]
  },
  {
   "cell_type": "code",
   "execution_count": 427,
   "metadata": {},
   "outputs": [
    {
     "name": "stdout",
     "output_type": "stream",
     "text": [
      "     Age  Sex  BP  Cholesterol  Na_to_K   Drug\n",
      "0      8    0   0            0      167  drugY\n",
      "1     30    1   1            0       89  drugC\n",
      "2     30    1   1            0       43  drugC\n",
      "3     12    0   2            0       10  drugX\n",
      "4     44    0   1            0      133  drugY\n",
      "..   ...  ...  ..          ...      ...    ...\n",
      "195   39    0   1            0       69  drugC\n",
      "196    1    1   1            0       75  drugC\n",
      "197   35    1   2            0       36  drugX\n",
      "198    8    1   2            1      102  drugX\n",
      "199   24    0   1            1       66  drugX\n",
      "\n",
      "[200 rows x 6 columns]\n"
     ]
    }
   ],
   "source": [
    "print(df_encoded)"
   ]
  },
  {
   "cell_type": "code",
   "execution_count": 428,
   "metadata": {},
   "outputs": [],
   "source": [
    "from sklearn.preprocessing import LabelEncoder\n",
    "\n",
    "# Separar variables predictoras y objetivo\n",
    "X = df_encoded.drop(columns=['Drug'])  # Eliminar la variable objetivo\n",
    "\n",
    "# Codificar la variable objetivo\n",
    "le_drug = LabelEncoder()\n",
    "y = le_drug.fit_transform(df_encoded['Drug'])  # Convertir 'Drug' en valores numéricos"
   ]
  },
  {
   "cell_type": "code",
   "execution_count": 429,
   "metadata": {},
   "outputs": [],
   "source": [
    "# Creacion de grupos de entrenamiento \n",
    "X_train, X_test, y_train, y_test = train_test_split(X, y, test_size=0.2, random_state=1)"
   ]
  },
  {
   "cell_type": "code",
   "execution_count": 430,
   "metadata": {},
   "outputs": [],
   "source": [
    "# Crear objeto de clasificacion y objeto de decisión  \n",
    "clf = DecisionTreeClassifier()\n",
    "\n",
    "# Aplicación del algoritmo de arboles de decisión a los grupos de entrenamiento\n",
    "clf = clf.fit(X_train, y_train)\n",
    "\n",
    "# Predicción de la respuesta para el grupo de prueba\n",
    "y_pred = clf.predict(X_test)"
   ]
  },
  {
   "cell_type": "markdown",
   "metadata": {},
   "source": [
    "# Comparamos la variable 'Y_test' con 'Y_pred'"
   ]
  },
  {
   "cell_type": "code",
   "execution_count": 431,
   "metadata": {},
   "outputs": [
    {
     "data": {
      "text/plain": [
       "array([3, 4, 3, 2, 4])"
      ]
     },
     "execution_count": 431,
     "metadata": {},
     "output_type": "execute_result"
    }
   ],
   "source": [
    "y_test[:5]"
   ]
  },
  {
   "cell_type": "code",
   "execution_count": 432,
   "metadata": {},
   "outputs": [
    {
     "data": {
      "text/plain": [
       "array([3, 4, 3, 2, 4])"
      ]
     },
     "execution_count": 432,
     "metadata": {},
     "output_type": "execute_result"
    }
   ],
   "source": [
    "y_pred[:5]"
   ]
  },
  {
   "cell_type": "code",
   "execution_count": 433,
   "metadata": {},
   "outputs": [
    {
     "data": {
      "text/plain": [
       "array([[ 4,  0,  0,  0,  0],\n",
       "       [ 0,  2,  0,  0,  0],\n",
       "       [ 0,  0,  4,  0,  0],\n",
       "       [ 0,  0,  0, 13,  0],\n",
       "       [ 0,  0,  1,  0, 16]], dtype=int64)"
      ]
     },
     "execution_count": 433,
     "metadata": {},
     "output_type": "execute_result"
    }
   ],
   "source": [
    "# Matriz de confunsión\n",
    "from sklearn.metrics import confusion_matrix\n",
    "cm = confusion_matrix(y_test, y_pred)\n",
    "cm"
   ]
  },
  {
   "cell_type": "code",
   "execution_count": 434,
   "metadata": {},
   "outputs": [
    {
     "data": {
      "image/png": "[encoded data removed]",
      "text/plain": [
       "<Figure size 600x400 with 2 Axes>"
      ]
     },
     "metadata": {},
     "output_type": "display_data"
    }
   ],
   "source": [
    "import seaborn as sns\n",
    "import matplotlib.pyplot as plt\n",
    "\n",
    "plt.figure(figsize=(6,4))\n",
    "sns.heatmap(cm, annot=True, fmt=\"d\", cmap=\"Blues\", xticklabels=le_drug.classes_, yticklabels=le_drug.classes_)\n",
    "plt.xlabel(\"Predicción\")\n",
    "plt.ylabel(\"Real\")\n",
    "plt.title(\"Matriz de Confusión\")\n",
    "plt.show()"
   ]
  },
  {
   "cell_type": "code",
   "execution_count": 435,
   "metadata": {},
   "outputs": [
    {
     "name": "stdout",
     "output_type": "stream",
     "text": [
      "              precision    recall  f1-score   support\n",
      "\n",
      "           0       1.00      1.00      1.00         4\n",
      "           1       1.00      1.00      1.00         2\n",
      "           2       0.80      1.00      0.89         4\n",
      "           3       1.00      1.00      1.00        13\n",
      "           4       1.00      0.94      0.97        17\n",
      "\n",
      "    accuracy                           0.97        40\n",
      "   macro avg       0.96      0.99      0.97        40\n",
      "weighted avg       0.98      0.97      0.98        40\n",
      "\n"
     ]
    }
   ],
   "source": [
    "# Estadisticas de Desempeño\n",
    "from sklearn.metrics import classification_report\n",
    "print(classification_report(y_test, y_pred))"
   ]
  },
  {
   "cell_type": "markdown",
   "metadata": {},
   "source": [
    "# Como Obtuve problemas con el modelo y los scores son muy cercanos al %100 de eficacia voy comprobar con una validacion cruzada"
   ]
  },
  {
   "cell_type": "code",
   "execution_count": 436,
   "metadata": {},
   "outputs": [
    {
     "name": "stdout",
     "output_type": "stream",
     "text": [
      "Accuracy promedio: 0.985\n"
     ]
    }
   ],
   "source": [
    "from sklearn.model_selection import cross_val_score\n",
    "\n",
    "scores = cross_val_score(clf, X, y, cv=5)\n",
    "print(\"Accuracy promedio:\", scores.mean())"
   ]
  },
  {
   "cell_type": "code",
   "execution_count": 437,
   "metadata": {},
   "outputs": [],
   "source": [
    "from sklearn import tree\n",
    "import graphviz\n",
    "import pydotplus\n",
    "from PIL import Image"
   ]
  },
  {
   "cell_type": "code",
   "execution_count": 438,
   "metadata": {},
   "outputs": [],
   "source": [
    "# Creación de informacion para el arbol (reglas de decisión)\n",
    "dot_data = tree.export_graphviz(clf, out_file = None, feature_names = feature_cools, class_names= ['drugY', 'drugC', 'drugX', 'drugA', 'drugB'])\n",
    "\n",
    "# Creacion de la grafica del arbol \n",
    "graph = pydotplus.graph_from_dot_data(dot_data)"
   ]
  },
  {
   "cell_type": "code",
   "execution_count": 439,
   "metadata": {},
   "outputs": [],
   "source": [
    "# Creacion del arbol en formato PDF\n",
    "graph.write_pdf('Drugs.pdf')\n",
    "\n",
    "# Creacion del arbol en fromato PNG\n",
    "graph.write_png('Drugs.png')\n",
    "\n",
    "image = Image.open('Drugs.png')\n",
    "image.show()"
   ]
  },
  {
   "cell_type": "code",
   "execution_count": 440,
   "metadata": {},
   "outputs": [],
   "source": [
    "# Crear objeto de clasificacion y objeto de decisión  \n",
    "clf = DecisionTreeClassifier(criterion='entropy', max_depth=3) \n",
    "\n",
    "# Aplicación del algoritmo de arboles de decisión a los grupos de entrenamiento\n",
    "clf = clf.fit(X_train, y_train)\n",
    "\n",
    "# Predicción de la respuesta para el grupo de prueba\n",
    "y_pred = clf.predict(X_test)"
   ]
  },
  {
   "cell_type": "code",
   "execution_count": 441,
   "metadata": {},
   "outputs": [
    {
     "name": "stdout",
     "output_type": "stream",
     "text": [
      "              precision    recall  f1-score   support\n",
      "\n",
      "           0       1.00      1.00      1.00         4\n",
      "           1       1.00      1.00      1.00         2\n",
      "           2       0.00      0.00      0.00         4\n",
      "           3       0.72      1.00      0.84        13\n",
      "           4       1.00      0.94      0.97        17\n",
      "\n",
      "    accuracy                           0.88        40\n",
      "   macro avg       0.74      0.79      0.76        40\n",
      "weighted avg       0.81      0.88      0.83        40\n",
      "\n"
     ]
    }
   ],
   "source": [
    "# Estadisticas de Desempeño\n",
    "from sklearn.metrics import classification_report\n",
    "print(classification_report(y_test, y_pred))"
   ]
  },
  {
   "cell_type": "code",
   "execution_count": 442,
   "metadata": {},
   "outputs": [],
   "source": [
    "# Creación de informacion para el arbol (reglas de decisión)\n",
    "dot_data = tree.export_graphviz(clf, out_file = None, feature_names = feature_cools, class_names= ['drugY', 'drugC', 'drugX', 'drugA', 'drugB'])\n",
    "\n",
    "# Creacion de la grafica del arbol \n",
    "graph = pydotplus.graph_from_dot_data(dot_data)"
   ]
  },
  {
   "cell_type": "code",
   "execution_count": 443,
   "metadata": {},
   "outputs": [],
   "source": [
    "# Creacion del arbol en formato PDF\n",
    "graph.write_pdf('Drugs.pdf')\n",
    "\n",
    "# Creacion del arbol en fromato PNG\n",
    "graph.write_png('Drugs.png')\n",
    "\n",
    "image = Image.open('Drugs.png')\n",
    "image.show()"
   ]
  },
  {
   "cell_type": "markdown",
   "metadata": {},
   "source": [
    "# La optimizacion de desempeño que mejor resultados nos arrojo fue que viene por Default, en este caso nos arrojo una valoracion global del %97 \n",
    "## Tambien podemos notar los porcentajes de Determinacion de niveles de presicion son muy altos, es por esto que nos quedamos con el ajuste que viene por default"
   ]
  },
  {
   "cell_type": "code",
   "execution_count": 444,
   "metadata": {},
   "outputs": [],
   "source": [
    "# Crear objeto de clasificacion y objeto de decisión  \n",
    "clf = DecisionTreeClassifier()\n",
    "\n",
    "# Aplicación del algoritmo de arboles de decisión a los grupos de entrenamiento\n",
    "clf = clf.fit(X_train, y_train)\n",
    "\n",
    "# Predicción de la respuesta para el grupo de prueba\n",
    "y_pred = clf.predict(X_test)"
   ]
  },
  {
   "cell_type": "code",
   "execution_count": 445,
   "metadata": {},
   "outputs": [
    {
     "name": "stdout",
     "output_type": "stream",
     "text": [
      "              precision    recall  f1-score   support\n",
      "\n",
      "           0       1.00      1.00      1.00         4\n",
      "           1       1.00      1.00      1.00         2\n",
      "           2       0.80      1.00      0.89         4\n",
      "           3       1.00      1.00      1.00        13\n",
      "           4       1.00      0.94      0.97        17\n",
      "\n",
      "    accuracy                           0.97        40\n",
      "   macro avg       0.96      0.99      0.97        40\n",
      "weighted avg       0.98      0.97      0.98        40\n",
      "\n"
     ]
    }
   ],
   "source": [
    "# Estadisticas de Desempeño\n",
    "from sklearn.metrics import classification_report\n",
    "print(classification_report(y_test, y_pred))"
   ]
  },
  {
   "cell_type": "code",
   "execution_count": 446,
   "metadata": {},
   "outputs": [],
   "source": [
    "# Adicion de colores del arbol de decision\n",
    "from six import StringIO\n",
    "from IPython.display import Image\n",
    "from  sklearn.tree import export_graphviz"
   ]
  },
  {
   "cell_type": "code",
   "execution_count": 447,
   "metadata": {},
   "outputs": [],
   "source": [
    "dot_data = StringIO()\n",
    "export_graphviz(clf, out_file=dot_data, filled=True, rounded=True, special_characters=True, feature_names=feature_cools, class_names=['drugY', 'drugC', 'drugX', 'drugA', 'drugB'])\n",
    "graph = pydotplus.graph_from_dot_data(dot_data.getvalue())"
   ]
  },
  {
   "cell_type": "code",
   "execution_count": 448,
   "metadata": {},
   "outputs": [
    {
     "name": "stdout",
     "output_type": "stream",
     "text": [
      "c:\\Users\\randy\\EBAC.PRACTICAS\n"
     ]
    }
   ],
   "source": [
    "import os\n",
    "print(os.getcwd())  # Muestra el directorio de trabajo actual"
   ]
  },
  {
   "cell_type": "code",
   "execution_count": 449,
   "metadata": {},
   "outputs": [],
   "source": [
    "# Creacionn de archivo PNG\n",
    "from PIL import Image\n",
    "graph.write_png(r'c:\\Users\\randy\\EBAC.PRACTICAS\\Drugs.png')\n",
    "image = Image.open('Drugs.png')\n",
    "image.show()"
   ]
  },
  {
   "cell_type": "markdown",
   "metadata": {},
   "source": [
    "# ¿Qué medicamento recomendaría utilizar para un paciente con los siguientes datos? "
   ]
  },
  {
   "cell_type": "code",
   "execution_count": 464,
   "metadata": {},
   "outputs": [
    {
     "data": {
      "image/png": "[encoded data removed]",
      "text/plain": [
       "<IPython.core.display.Image object>"
      ]
     },
     "execution_count": 464,
     "metadata": {},
     "output_type": "execute_result"
    }
   ],
   "source": [
    "from IPython.display import Image\n",
    "\n",
    "# Ruta de la imagen\n",
    "ruta_imagen = \"C:/Users/randy/EBAC.PRACTICAS/m23 2.png\"\n",
    "\n",
    "# Mostrar la imagen\n",
    "Image(filename=ruta_imagen)"
   ]
  },
  {
   "cell_type": "code",
   "execution_count": 458,
   "metadata": {},
   "outputs": [],
   "source": [
    "# Preparar los datos del paciente\n",
    "paciente = pd.DataFrame({\n",
    "    'Age': [50],\n",
    "    'Sex': ['F'],\n",
    "    'BP': ['HIGH'],\n",
    "    'Cholesterol': ['NORMAL'],\n",
    "    'Na_to_K': [15.302]\n",
    "})"
   ]
  },
  {
   "cell_type": "code",
   "execution_count": 459,
   "metadata": {},
   "outputs": [],
   "source": [
    "# Codificar las variables categóricas\n",
    "for col in ['Sex', 'BP', 'Cholesterol']:\n",
    "    paciente[col] = label_encoders[col].transform(paciente[col])\n"
   ]
  },
  {
   "cell_type": "code",
   "execution_count": 460,
   "metadata": {},
   "outputs": [],
   "source": [
    "# Predecir el medicamento\n",
    "prediccion = clf.predict(paciente)\n",
    "medicamento_recomendado = le_drug.inverse_transform(prediccion)[0]\n"
   ]
  },
  {
   "cell_type": "code",
   "execution_count": 461,
   "metadata": {},
   "outputs": [],
   "source": [
    "# Obtener probabilidades de predicción\n",
    "probabilidades = clf.predict_proba(paciente)"
   ]
  },
  {
   "cell_type": "code",
   "execution_count": 462,
   "metadata": {},
   "outputs": [
    {
     "name": "stdout",
     "output_type": "stream",
     "text": [
      "Medicamento recomendado: drugB\n",
      "\n",
      "Probabilidades de cada medicamento:\n",
      "drugA: 0.00%\n",
      "drugB: 100.00%\n",
      "drugC: 0.00%\n",
      "drugX: 0.00%\n",
      "drugY: 0.00%\n"
     ]
    }
   ],
   "source": [
    "# Imprimir resultados\n",
    "print(\"Medicamento recomendado:\", medicamento_recomendado)\n",
    "print(\"\\nProbabilidades de cada medicamento:\")\n",
    "for clase, probabilidad in zip(le_drug.classes_, probabilidades[0]):\n",
    "    print(f\"{clase}: {probabilidad:.2%}\")"
   ]
  }
 ],
 "metadata": {
  "kernelspec": {
   "display_name": "Python 3",
   "language": "python",
   "name": "python3"
  },
  "language_info": {
   "codemirror_mode": {
    "name": "ipython",
    "version": 3
   },
   "file_extension": ".py",
   "mimetype": "text/x-python",
   "name": "python",
   "nbconvert_exporter": "python",
   "pygments_lexer": "ipython3",
   "version": "3.12.4"
  }
 },
 "nbformat": 4,
 "nbformat_minor": 2
}
