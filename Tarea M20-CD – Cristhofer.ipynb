{
 "cells": [
  {
   "cell_type": "code",
   "execution_count": 7,
   "metadata": {},
   "outputs": [],
   "source": [
    "import numpy as np  # Para hacer todas las operaciones de tipo Numericas\n",
    "import pandas as pd   # Para el procesamiento de datos y las operaciones de entrada y salida de los archivos\n",
    "import matplotlib.pyplot as plt     # Para la visualisacion de diferentes tipos de graficos\n",
    "%matplotlib inline   \n",
    "# # Para hacer graficos de forma que esten incluidos dentro del mismo Notebook junto al Coid que nosotros escribamo\n",
    "import seaborn as sns      # para la Visualisacion Avanzada de los Graficos \n",
    "import warnings     # Para silenciar los Warnings \n",
    "warnings.filterwarnings('ignore')       # Esto sirve solo para quital las Alternativas a otras alternativas que nos arroja\n",
    "# Y consumen tiempo y nos alertan de manera embana."
   ]
  },
  {
   "cell_type": "code",
   "execution_count": 8,
   "metadata": {},
   "outputs": [
    {
     "data": {
      "text/html": [
       "<div>\n",
       "<style scoped>\n",
       "    .dataframe tbody tr th:only-of-type {\n",
       "        vertical-align: middle;\n",
       "    }\n",
       "\n",
       "    .dataframe tbody tr th {\n",
       "        vertical-align: top;\n",
       "    }\n",
       "\n",
       "    .dataframe thead th {\n",
       "        text-align: right;\n",
       "    }\n",
       "</style>\n",
       "<table border=\"1\" class=\"dataframe\">\n",
       "  <thead>\n",
       "    <tr style=\"text-align: right;\">\n",
       "      <th></th>\n",
       "      <th>MODELYEAR</th>\n",
       "      <th>MAKE</th>\n",
       "      <th>MODEL</th>\n",
       "      <th>VEHICLECLASS</th>\n",
       "      <th>ENGINESIZE</th>\n",
       "      <th>CYLINDERS</th>\n",
       "      <th>TRANSMISSION</th>\n",
       "      <th>FUELTYPE</th>\n",
       "      <th>FUELCONSUMPTION_CITY</th>\n",
       "      <th>FUELCONSUMPTION_HWY</th>\n",
       "      <th>FUELCONSUMPTION_COMB</th>\n",
       "      <th>FUELCONSUMPTION_COMB_MPG</th>\n",
       "      <th>CO2EMISSIONS</th>\n",
       "    </tr>\n",
       "  </thead>\n",
       "  <tbody>\n",
       "    <tr>\n",
       "      <th>0</th>\n",
       "      <td>2022</td>\n",
       "      <td>Acura</td>\n",
       "      <td>ILX</td>\n",
       "      <td>Compact</td>\n",
       "      <td>2.4</td>\n",
       "      <td>4</td>\n",
       "      <td>AM8</td>\n",
       "      <td>Z</td>\n",
       "      <td>9.9</td>\n",
       "      <td>7.0</td>\n",
       "      <td>8.6</td>\n",
       "      <td>33</td>\n",
       "      <td>200</td>\n",
       "    </tr>\n",
       "    <tr>\n",
       "      <th>1</th>\n",
       "      <td>2022</td>\n",
       "      <td>Acura</td>\n",
       "      <td>MDX SH-AWD</td>\n",
       "      <td>SUV: Small</td>\n",
       "      <td>3.5</td>\n",
       "      <td>6</td>\n",
       "      <td>AS10</td>\n",
       "      <td>Z</td>\n",
       "      <td>12.6</td>\n",
       "      <td>9.4</td>\n",
       "      <td>11.2</td>\n",
       "      <td>25</td>\n",
       "      <td>263</td>\n",
       "    </tr>\n",
       "    <tr>\n",
       "      <th>2</th>\n",
       "      <td>2022</td>\n",
       "      <td>Acura</td>\n",
       "      <td>RDX SH-AWD</td>\n",
       "      <td>SUV: Small</td>\n",
       "      <td>2.0</td>\n",
       "      <td>4</td>\n",
       "      <td>AS10</td>\n",
       "      <td>Z</td>\n",
       "      <td>11.0</td>\n",
       "      <td>8.6</td>\n",
       "      <td>9.9</td>\n",
       "      <td>29</td>\n",
       "      <td>232</td>\n",
       "    </tr>\n",
       "    <tr>\n",
       "      <th>3</th>\n",
       "      <td>2022</td>\n",
       "      <td>Acura</td>\n",
       "      <td>RDX SH-AWD A-SPEC</td>\n",
       "      <td>SUV: Small</td>\n",
       "      <td>2.0</td>\n",
       "      <td>4</td>\n",
       "      <td>AS10</td>\n",
       "      <td>Z</td>\n",
       "      <td>11.3</td>\n",
       "      <td>9.1</td>\n",
       "      <td>10.3</td>\n",
       "      <td>27</td>\n",
       "      <td>242</td>\n",
       "    </tr>\n",
       "    <tr>\n",
       "      <th>4</th>\n",
       "      <td>2022</td>\n",
       "      <td>Acura</td>\n",
       "      <td>TLX SH-AWD</td>\n",
       "      <td>Compact</td>\n",
       "      <td>2.0</td>\n",
       "      <td>4</td>\n",
       "      <td>AS10</td>\n",
       "      <td>Z</td>\n",
       "      <td>11.2</td>\n",
       "      <td>8.0</td>\n",
       "      <td>9.8</td>\n",
       "      <td>29</td>\n",
       "      <td>230</td>\n",
       "    </tr>\n",
       "    <tr>\n",
       "      <th>...</th>\n",
       "      <td>...</td>\n",
       "      <td>...</td>\n",
       "      <td>...</td>\n",
       "      <td>...</td>\n",
       "      <td>...</td>\n",
       "      <td>...</td>\n",
       "      <td>...</td>\n",
       "      <td>...</td>\n",
       "      <td>...</td>\n",
       "      <td>...</td>\n",
       "      <td>...</td>\n",
       "      <td>...</td>\n",
       "      <td>...</td>\n",
       "    </tr>\n",
       "    <tr>\n",
       "      <th>940</th>\n",
       "      <td>2022</td>\n",
       "      <td>Volvo</td>\n",
       "      <td>XC40 T5 AWD</td>\n",
       "      <td>SUV: Small</td>\n",
       "      <td>2.0</td>\n",
       "      <td>4</td>\n",
       "      <td>AS8</td>\n",
       "      <td>Z</td>\n",
       "      <td>10.7</td>\n",
       "      <td>7.7</td>\n",
       "      <td>9.4</td>\n",
       "      <td>30</td>\n",
       "      <td>219</td>\n",
       "    </tr>\n",
       "    <tr>\n",
       "      <th>941</th>\n",
       "      <td>2022</td>\n",
       "      <td>Volvo</td>\n",
       "      <td>XC60 B5 AWD</td>\n",
       "      <td>SUV: Small</td>\n",
       "      <td>2.0</td>\n",
       "      <td>4</td>\n",
       "      <td>AS8</td>\n",
       "      <td>Z</td>\n",
       "      <td>10.5</td>\n",
       "      <td>8.1</td>\n",
       "      <td>9.4</td>\n",
       "      <td>30</td>\n",
       "      <td>219</td>\n",
       "    </tr>\n",
       "    <tr>\n",
       "      <th>942</th>\n",
       "      <td>2022</td>\n",
       "      <td>Volvo</td>\n",
       "      <td>XC60 B6 AWD</td>\n",
       "      <td>SUV: Small</td>\n",
       "      <td>2.0</td>\n",
       "      <td>4</td>\n",
       "      <td>AS8</td>\n",
       "      <td>Z</td>\n",
       "      <td>11.0</td>\n",
       "      <td>8.7</td>\n",
       "      <td>9.9</td>\n",
       "      <td>29</td>\n",
       "      <td>232</td>\n",
       "    </tr>\n",
       "    <tr>\n",
       "      <th>943</th>\n",
       "      <td>2022</td>\n",
       "      <td>Volvo</td>\n",
       "      <td>XC90 T5 AWD</td>\n",
       "      <td>SUV: Standard</td>\n",
       "      <td>2.0</td>\n",
       "      <td>4</td>\n",
       "      <td>AS8</td>\n",
       "      <td>Z</td>\n",
       "      <td>11.5</td>\n",
       "      <td>8.4</td>\n",
       "      <td>10.1</td>\n",
       "      <td>28</td>\n",
       "      <td>236</td>\n",
       "    </tr>\n",
       "    <tr>\n",
       "      <th>944</th>\n",
       "      <td>2022</td>\n",
       "      <td>Volvo</td>\n",
       "      <td>XC90 T6 AWD</td>\n",
       "      <td>SUV: Standard</td>\n",
       "      <td>2.0</td>\n",
       "      <td>4</td>\n",
       "      <td>AS8</td>\n",
       "      <td>Z</td>\n",
       "      <td>12.4</td>\n",
       "      <td>8.9</td>\n",
       "      <td>10.8</td>\n",
       "      <td>26</td>\n",
       "      <td>252</td>\n",
       "    </tr>\n",
       "  </tbody>\n",
       "</table>\n",
       "<p>945 rows × 13 columns</p>\n",
       "</div>"
      ],
      "text/plain": [
       "     MODELYEAR   MAKE              MODEL   VEHICLECLASS  ENGINESIZE  \\\n",
       "0         2022  Acura                ILX        Compact         2.4   \n",
       "1         2022  Acura         MDX SH-AWD     SUV: Small         3.5   \n",
       "2         2022  Acura         RDX SH-AWD     SUV: Small         2.0   \n",
       "3         2022  Acura  RDX SH-AWD A-SPEC     SUV: Small         2.0   \n",
       "4         2022  Acura         TLX SH-AWD        Compact         2.0   \n",
       "..         ...    ...                ...            ...         ...   \n",
       "940       2022  Volvo        XC40 T5 AWD     SUV: Small         2.0   \n",
       "941       2022  Volvo        XC60 B5 AWD     SUV: Small         2.0   \n",
       "942       2022  Volvo        XC60 B6 AWD     SUV: Small         2.0   \n",
       "943       2022  Volvo        XC90 T5 AWD  SUV: Standard         2.0   \n",
       "944       2022  Volvo        XC90 T6 AWD  SUV: Standard         2.0   \n",
       "\n",
       "     CYLINDERS TRANSMISSION FUELTYPE  FUELCONSUMPTION_CITY  \\\n",
       "0            4          AM8        Z                   9.9   \n",
       "1            6         AS10        Z                  12.6   \n",
       "2            4         AS10        Z                  11.0   \n",
       "3            4         AS10        Z                  11.3   \n",
       "4            4         AS10        Z                  11.2   \n",
       "..         ...          ...      ...                   ...   \n",
       "940          4          AS8        Z                  10.7   \n",
       "941          4          AS8        Z                  10.5   \n",
       "942          4          AS8        Z                  11.0   \n",
       "943          4          AS8        Z                  11.5   \n",
       "944          4          AS8        Z                  12.4   \n",
       "\n",
       "     FUELCONSUMPTION_HWY  FUELCONSUMPTION_COMB  FUELCONSUMPTION_COMB_MPG  \\\n",
       "0                    7.0                   8.6                        33   \n",
       "1                    9.4                  11.2                        25   \n",
       "2                    8.6                   9.9                        29   \n",
       "3                    9.1                  10.3                        27   \n",
       "4                    8.0                   9.8                        29   \n",
       "..                   ...                   ...                       ...   \n",
       "940                  7.7                   9.4                        30   \n",
       "941                  8.1                   9.4                        30   \n",
       "942                  8.7                   9.9                        29   \n",
       "943                  8.4                  10.1                        28   \n",
       "944                  8.9                  10.8                        26   \n",
       "\n",
       "     CO2EMISSIONS  \n",
       "0             200  \n",
       "1             263  \n",
       "2             232  \n",
       "3             242  \n",
       "4             230  \n",
       "..            ...  \n",
       "940           219  \n",
       "941           219  \n",
       "942           232  \n",
       "943           236  \n",
       "944           252  \n",
       "\n",
       "[945 rows x 13 columns]"
      ]
     },
     "execution_count": 8,
     "metadata": {},
     "output_type": "execute_result"
    }
   ],
   "source": [
    "co2 = pd.read_excel('FuelConsumptionCo2.xlsx') # Cargamos el archivo de Excel en un DataFrame\n",
    "co2 # Mostramos el DF"
   ]
  },
  {
   "cell_type": "markdown",
   "metadata": {},
   "source": [
    "# 1- Elimine las columnas de tipo categórico de la base de datos y verifique que no existan datos nulos que deban ser eliminados de manera previa al análisis."
   ]
  },
  {
   "cell_type": "code",
   "execution_count": 9,
   "metadata": {},
   "outputs": [
    {
     "data": {
      "text/plain": [
       "Index(['MODELYEAR', 'MAKE', 'MODEL', 'VEHICLECLASS', 'ENGINESIZE', 'CYLINDERS',\n",
       "       'TRANSMISSION', 'FUELTYPE', 'FUELCONSUMPTION_CITY',\n",
       "       'FUELCONSUMPTION_HWY', 'FUELCONSUMPTION_COMB',\n",
       "       'FUELCONSUMPTION_COMB_MPG', 'CO2EMISSIONS'],\n",
       "      dtype='object')"
      ]
     },
     "execution_count": 9,
     "metadata": {},
     "output_type": "execute_result"
    }
   ],
   "source": [
    "co2.columns # Mostramos las Columnas del DF"
   ]
  },
  {
   "cell_type": "code",
   "execution_count": 10,
   "metadata": {},
   "outputs": [
    {
     "data": {
      "text/html": [
       "<div>\n",
       "<style scoped>\n",
       "    .dataframe tbody tr th:only-of-type {\n",
       "        vertical-align: middle;\n",
       "    }\n",
       "\n",
       "    .dataframe tbody tr th {\n",
       "        vertical-align: top;\n",
       "    }\n",
       "\n",
       "    .dataframe thead th {\n",
       "        text-align: right;\n",
       "    }\n",
       "</style>\n",
       "<table border=\"1\" class=\"dataframe\">\n",
       "  <thead>\n",
       "    <tr style=\"text-align: right;\">\n",
       "      <th></th>\n",
       "      <th>FUELCONSUMPTION_CITY</th>\n",
       "      <th>FUELCONSUMPTION_HWY</th>\n",
       "      <th>FUELCONSUMPTION_COMB</th>\n",
       "      <th>FUELCONSUMPTION_COMB_MPG</th>\n",
       "      <th>CO2EMISSIONS</th>\n",
       "    </tr>\n",
       "  </thead>\n",
       "  <tbody>\n",
       "    <tr>\n",
       "      <th>0</th>\n",
       "      <td>9.9</td>\n",
       "      <td>7.0</td>\n",
       "      <td>8.6</td>\n",
       "      <td>33</td>\n",
       "      <td>200</td>\n",
       "    </tr>\n",
       "    <tr>\n",
       "      <th>1</th>\n",
       "      <td>12.6</td>\n",
       "      <td>9.4</td>\n",
       "      <td>11.2</td>\n",
       "      <td>25</td>\n",
       "      <td>263</td>\n",
       "    </tr>\n",
       "    <tr>\n",
       "      <th>2</th>\n",
       "      <td>11.0</td>\n",
       "      <td>8.6</td>\n",
       "      <td>9.9</td>\n",
       "      <td>29</td>\n",
       "      <td>232</td>\n",
       "    </tr>\n",
       "    <tr>\n",
       "      <th>3</th>\n",
       "      <td>11.3</td>\n",
       "      <td>9.1</td>\n",
       "      <td>10.3</td>\n",
       "      <td>27</td>\n",
       "      <td>242</td>\n",
       "    </tr>\n",
       "    <tr>\n",
       "      <th>4</th>\n",
       "      <td>11.2</td>\n",
       "      <td>8.0</td>\n",
       "      <td>9.8</td>\n",
       "      <td>29</td>\n",
       "      <td>230</td>\n",
       "    </tr>\n",
       "    <tr>\n",
       "      <th>...</th>\n",
       "      <td>...</td>\n",
       "      <td>...</td>\n",
       "      <td>...</td>\n",
       "      <td>...</td>\n",
       "      <td>...</td>\n",
       "    </tr>\n",
       "    <tr>\n",
       "      <th>940</th>\n",
       "      <td>10.7</td>\n",
       "      <td>7.7</td>\n",
       "      <td>9.4</td>\n",
       "      <td>30</td>\n",
       "      <td>219</td>\n",
       "    </tr>\n",
       "    <tr>\n",
       "      <th>941</th>\n",
       "      <td>10.5</td>\n",
       "      <td>8.1</td>\n",
       "      <td>9.4</td>\n",
       "      <td>30</td>\n",
       "      <td>219</td>\n",
       "    </tr>\n",
       "    <tr>\n",
       "      <th>942</th>\n",
       "      <td>11.0</td>\n",
       "      <td>8.7</td>\n",
       "      <td>9.9</td>\n",
       "      <td>29</td>\n",
       "      <td>232</td>\n",
       "    </tr>\n",
       "    <tr>\n",
       "      <th>943</th>\n",
       "      <td>11.5</td>\n",
       "      <td>8.4</td>\n",
       "      <td>10.1</td>\n",
       "      <td>28</td>\n",
       "      <td>236</td>\n",
       "    </tr>\n",
       "    <tr>\n",
       "      <th>944</th>\n",
       "      <td>12.4</td>\n",
       "      <td>8.9</td>\n",
       "      <td>10.8</td>\n",
       "      <td>26</td>\n",
       "      <td>252</td>\n",
       "    </tr>\n",
       "  </tbody>\n",
       "</table>\n",
       "<p>945 rows × 5 columns</p>\n",
       "</div>"
      ],
      "text/plain": [
       "     FUELCONSUMPTION_CITY  FUELCONSUMPTION_HWY  FUELCONSUMPTION_COMB  \\\n",
       "0                     9.9                  7.0                   8.6   \n",
       "1                    12.6                  9.4                  11.2   \n",
       "2                    11.0                  8.6                   9.9   \n",
       "3                    11.3                  9.1                  10.3   \n",
       "4                    11.2                  8.0                   9.8   \n",
       "..                    ...                  ...                   ...   \n",
       "940                  10.7                  7.7                   9.4   \n",
       "941                  10.5                  8.1                   9.4   \n",
       "942                  11.0                  8.7                   9.9   \n",
       "943                  11.5                  8.4                  10.1   \n",
       "944                  12.4                  8.9                  10.8   \n",
       "\n",
       "     FUELCONSUMPTION_COMB_MPG  CO2EMISSIONS  \n",
       "0                          33           200  \n",
       "1                          25           263  \n",
       "2                          29           232  \n",
       "3                          27           242  \n",
       "4                          29           230  \n",
       "..                        ...           ...  \n",
       "940                        30           219  \n",
       "941                        30           219  \n",
       "942                        29           232  \n",
       "943                        28           236  \n",
       "944                        26           252  \n",
       "\n",
       "[945 rows x 5 columns]"
      ]
     },
     "execution_count": 10,
     "metadata": {},
     "output_type": "execute_result"
    }
   ],
   "source": [
    "co2.drop(['MODELYEAR', 'MAKE', 'MODEL', 'VEHICLECLASS', 'ENGINESIZE', 'CYLINDERS',\n",
    "       'TRANSMISSION', 'FUELTYPE'], axis=1, inplace=True) # removemos las columnas que son categoricas \n",
    "# Con axis=1 le decimos que nos remueva las columnas y con inplace=True le decimos que lo haga en el mismo Data Frame\n",
    "co2 "
   ]
  },
  {
   "cell_type": "markdown",
   "metadata": {},
   "source": [
    "## Mostraremos los valores Faltantes"
   ]
  },
  {
   "cell_type": "code",
   "execution_count": 11,
   "metadata": {},
   "outputs": [
    {
     "data": {
      "text/plain": [
       "<Axes: >"
      ]
     },
     "execution_count": 11,
     "metadata": {},
     "output_type": "execute_result"
    },
    {
     "data": {
      "image/png": "[encoded data removed]",
      "text/plain": [
       "<Figure size 2000x600 with 1 Axes>"
      ]
     },
     "metadata": {},
     "output_type": "display_data"
    }
   ],
   "source": [
    "plt.figure(figsize=(20,6)) # Tamaño de la figura 20 * 6\n",
    "\n",
    "# Mapa de calor\n",
    "sns.heatmap(co2.isnull(), yticklabels=False, cbar=False, cmap='viridis') # yticklabels=False, cbar=False, cmap='viridis' son para quitar las etiquetas de los ejes y la barra de color y cambiar el color de los valores faltantes a viridis \n",
    "# Esto es para visualisar de color amarillo los valores fantantes en la base de datos "
   ]
  },
  {
   "cell_type": "markdown",
   "metadata": {},
   "source": [
    "###  -No tenemos valores faltantes lo que nos indica que podemos continuar el analisis.\n",
    "\n",
    "# 2- Realice un análisis de regresión múltiple para pronosticar la variable “CO2 EMISSIONS” con las variables remanentes. Obtenga los indicadores de bondad de ajuste correspondientes (R cuadrada, Error medio absoluto, etc.). Utilice los coeficientes resultantes y pronostique la primera observación de la base de prueba. ¿Coincide su resultado con aquel obtenido con la instrucción “predict”? Explique."
   ]
  },
  {
   "cell_type": "code",
   "execution_count": 12,
   "metadata": {},
   "outputs": [],
   "source": [
    "X = co2.drop('CO2EMISSIONS', axis=1) # removemos la columna 'CO2EMISSIONS' que es la que queremos predecir\n",
    "y = co2['CO2EMISSIONS'] # guardamos la columna 'CO2EMISSIONS' en y que es la que queremos predecir"
   ]
  },
  {
   "cell_type": "code",
   "execution_count": 13,
   "metadata": {},
   "outputs": [
    {
     "data": {
      "text/html": [
       "<div>\n",
       "<style scoped>\n",
       "    .dataframe tbody tr th:only-of-type {\n",
       "        vertical-align: middle;\n",
       "    }\n",
       "\n",
       "    .dataframe tbody tr th {\n",
       "        vertical-align: top;\n",
       "    }\n",
       "\n",
       "    .dataframe thead th {\n",
       "        text-align: right;\n",
       "    }\n",
       "</style>\n",
       "<table border=\"1\" class=\"dataframe\">\n",
       "  <thead>\n",
       "    <tr style=\"text-align: right;\">\n",
       "      <th></th>\n",
       "      <th>FUELCONSUMPTION_CITY</th>\n",
       "      <th>FUELCONSUMPTION_HWY</th>\n",
       "      <th>FUELCONSUMPTION_COMB</th>\n",
       "      <th>FUELCONSUMPTION_COMB_MPG</th>\n",
       "    </tr>\n",
       "  </thead>\n",
       "  <tbody>\n",
       "    <tr>\n",
       "      <th>0</th>\n",
       "      <td>9.9</td>\n",
       "      <td>7.0</td>\n",
       "      <td>8.6</td>\n",
       "      <td>33</td>\n",
       "    </tr>\n",
       "    <tr>\n",
       "      <th>1</th>\n",
       "      <td>12.6</td>\n",
       "      <td>9.4</td>\n",
       "      <td>11.2</td>\n",
       "      <td>25</td>\n",
       "    </tr>\n",
       "    <tr>\n",
       "      <th>2</th>\n",
       "      <td>11.0</td>\n",
       "      <td>8.6</td>\n",
       "      <td>9.9</td>\n",
       "      <td>29</td>\n",
       "    </tr>\n",
       "    <tr>\n",
       "      <th>3</th>\n",
       "      <td>11.3</td>\n",
       "      <td>9.1</td>\n",
       "      <td>10.3</td>\n",
       "      <td>27</td>\n",
       "    </tr>\n",
       "    <tr>\n",
       "      <th>4</th>\n",
       "      <td>11.2</td>\n",
       "      <td>8.0</td>\n",
       "      <td>9.8</td>\n",
       "      <td>29</td>\n",
       "    </tr>\n",
       "    <tr>\n",
       "      <th>...</th>\n",
       "      <td>...</td>\n",
       "      <td>...</td>\n",
       "      <td>...</td>\n",
       "      <td>...</td>\n",
       "    </tr>\n",
       "    <tr>\n",
       "      <th>940</th>\n",
       "      <td>10.7</td>\n",
       "      <td>7.7</td>\n",
       "      <td>9.4</td>\n",
       "      <td>30</td>\n",
       "    </tr>\n",
       "    <tr>\n",
       "      <th>941</th>\n",
       "      <td>10.5</td>\n",
       "      <td>8.1</td>\n",
       "      <td>9.4</td>\n",
       "      <td>30</td>\n",
       "    </tr>\n",
       "    <tr>\n",
       "      <th>942</th>\n",
       "      <td>11.0</td>\n",
       "      <td>8.7</td>\n",
       "      <td>9.9</td>\n",
       "      <td>29</td>\n",
       "    </tr>\n",
       "    <tr>\n",
       "      <th>943</th>\n",
       "      <td>11.5</td>\n",
       "      <td>8.4</td>\n",
       "      <td>10.1</td>\n",
       "      <td>28</td>\n",
       "    </tr>\n",
       "    <tr>\n",
       "      <th>944</th>\n",
       "      <td>12.4</td>\n",
       "      <td>8.9</td>\n",
       "      <td>10.8</td>\n",
       "      <td>26</td>\n",
       "    </tr>\n",
       "  </tbody>\n",
       "</table>\n",
       "<p>945 rows × 4 columns</p>\n",
       "</div>"
      ],
      "text/plain": [
       "     FUELCONSUMPTION_CITY  FUELCONSUMPTION_HWY  FUELCONSUMPTION_COMB  \\\n",
       "0                     9.9                  7.0                   8.6   \n",
       "1                    12.6                  9.4                  11.2   \n",
       "2                    11.0                  8.6                   9.9   \n",
       "3                    11.3                  9.1                  10.3   \n",
       "4                    11.2                  8.0                   9.8   \n",
       "..                    ...                  ...                   ...   \n",
       "940                  10.7                  7.7                   9.4   \n",
       "941                  10.5                  8.1                   9.4   \n",
       "942                  11.0                  8.7                   9.9   \n",
       "943                  11.5                  8.4                  10.1   \n",
       "944                  12.4                  8.9                  10.8   \n",
       "\n",
       "     FUELCONSUMPTION_COMB_MPG  \n",
       "0                          33  \n",
       "1                          25  \n",
       "2                          29  \n",
       "3                          27  \n",
       "4                          29  \n",
       "..                        ...  \n",
       "940                        30  \n",
       "941                        30  \n",
       "942                        29  \n",
       "943                        28  \n",
       "944                        26  \n",
       "\n",
       "[945 rows x 4 columns]"
      ]
     },
     "execution_count": 13,
     "metadata": {},
     "output_type": "execute_result"
    }
   ],
   "source": [
    "X"
   ]
  },
  {
   "cell_type": "code",
   "execution_count": 14,
   "metadata": {},
   "outputs": [
    {
     "data": {
      "text/plain": [
       "0      200\n",
       "1      263\n",
       "2      232\n",
       "3      242\n",
       "4      230\n",
       "      ... \n",
       "940    219\n",
       "941    219\n",
       "942    232\n",
       "943    236\n",
       "944    252\n",
       "Name: CO2EMISSIONS, Length: 945, dtype: int64"
      ]
     },
     "execution_count": 14,
     "metadata": {},
     "output_type": "execute_result"
    }
   ],
   "source": [
    "y"
   ]
  },
  {
   "cell_type": "markdown",
   "metadata": {},
   "source": [
    "### -Usaremos MACHINELEARNING para divirdir nuestra base de datos, en la base de entrenamiento y la base de prueba "
   ]
  },
  {
   "cell_type": "code",
   "execution_count": 15,
   "metadata": {},
   "outputs": [],
   "source": [
    "# Division en grupos de entrnamiento (TRAINING) y de prueba (TESTING)\n",
    "from sklearn.model_selection import train_test_split # importammos la libreria para dividir los datos en grupos de entrenamiento y de prueba\n",
    "# usaremos la funcion train_test_split de la libreria sklearn.model_selection\n",
    "# daremos la matriz original X y el Vector Y y el tamaño del grupo de prueba que sera del 30% \n",
    "# Y el random_state=101 para que siempre se divida de la misma forma y 1 para que sean comparables los resultados\n",
    "X_train, X_test, y_train, y_test = train_test_split(X, y, test_size=0.30, random_state=1) "
   ]
  },
  {
   "cell_type": "markdown",
   "metadata": {},
   "source": [
    "### -CONSTRUIREMOS UN MODELO DE REGRESION LINEAL PARA VER SI PODEMOS MEJORARLO"
   ]
  },
  {
   "cell_type": "code",
   "execution_count": 16,
   "metadata": {},
   "outputs": [
    {
     "data": {
      "text/html": [
       "<style>#sk-container-id-1 {color: black;}#sk-container-id-1 pre{padding: 0;}#sk-container-id-1 div.sk-toggleable {background-color: white;}#sk-container-id-1 label.sk-toggleable__label {cursor: pointer;display: block;width: 100%;margin-bottom: 0;padding: 0.3em;box-sizing: border-box;text-align: center;}#sk-container-id-1 label.sk-toggleable__label-arrow:before {content: \"▸\";float: left;margin-right: 0.25em;color: #696969;}#sk-container-id-1 label.sk-toggleable__label-arrow:hover:before {color: black;}#sk-container-id-1 div.sk-estimator:hover label.sk-toggleable__label-arrow:before {color: black;}#sk-container-id-1 div.sk-toggleable__content {max-height: 0;max-width: 0;overflow: hidden;text-align: left;background-color: #f0f8ff;}#sk-container-id-1 div.sk-toggleable__content pre {margin: 0.2em;color: black;border-radius: 0.25em;background-color: #f0f8ff;}#sk-container-id-1 input.sk-toggleable__control:checked~div.sk-toggleable__content {max-height: 200px;max-width: 100%;overflow: auto;}#sk-container-id-1 input.sk-toggleable__control:checked~label.sk-toggleable__label-arrow:before {content: \"▾\";}#sk-container-id-1 div.sk-estimator input.sk-toggleable__control:checked~label.sk-toggleable__label {background-color: #d4ebff;}#sk-container-id-1 div.sk-label input.sk-toggleable__control:checked~label.sk-toggleable__label {background-color: #d4ebff;}#sk-container-id-1 input.sk-hidden--visually {border: 0;clip: rect(1px 1px 1px 1px);clip: rect(1px, 1px, 1px, 1px);height: 1px;margin: -1px;overflow: hidden;padding: 0;position: absolute;width: 1px;}#sk-container-id-1 div.sk-estimator {font-family: monospace;background-color: #f0f8ff;border: 1px dotted black;border-radius: 0.25em;box-sizing: border-box;margin-bottom: 0.5em;}#sk-container-id-1 div.sk-estimator:hover {background-color: #d4ebff;}#sk-container-id-1 div.sk-parallel-item::after {content: \"\";width: 100%;border-bottom: 1px solid gray;flex-grow: 1;}#sk-container-id-1 div.sk-label:hover label.sk-toggleable__label {background-color: #d4ebff;}#sk-container-id-1 div.sk-serial::before {content: \"\";position: absolute;border-left: 1px solid gray;box-sizing: border-box;top: 0;bottom: 0;left: 50%;z-index: 0;}#sk-container-id-1 div.sk-serial {display: flex;flex-direction: column;align-items: center;background-color: white;padding-right: 0.2em;padding-left: 0.2em;position: relative;}#sk-container-id-1 div.sk-item {position: relative;z-index: 1;}#sk-container-id-1 div.sk-parallel {display: flex;align-items: stretch;justify-content: center;background-color: white;position: relative;}#sk-container-id-1 div.sk-item::before, #sk-container-id-1 div.sk-parallel-item::before {content: \"\";position: absolute;border-left: 1px solid gray;box-sizing: border-box;top: 0;bottom: 0;left: 50%;z-index: -1;}#sk-container-id-1 div.sk-parallel-item {display: flex;flex-direction: column;z-index: 1;position: relative;background-color: white;}#sk-container-id-1 div.sk-parallel-item:first-child::after {align-self: flex-end;width: 50%;}#sk-container-id-1 div.sk-parallel-item:last-child::after {align-self: flex-start;width: 50%;}#sk-container-id-1 div.sk-parallel-item:only-child::after {width: 0;}#sk-container-id-1 div.sk-dashed-wrapped {border: 1px dashed gray;margin: 0 0.4em 0.5em 0.4em;box-sizing: border-box;padding-bottom: 0.4em;background-color: white;}#sk-container-id-1 div.sk-label label {font-family: monospace;font-weight: bold;display: inline-block;line-height: 1.2em;}#sk-container-id-1 div.sk-label-container {text-align: center;}#sk-container-id-1 div.sk-container {/* jupyter's `normalize.less` sets `[hidden] { display: none; }` but bootstrap.min.css set `[hidden] { display: none !important; }` so we also need the `!important` here to be able to override the default hidden behavior on the sphinx rendered scikit-learn.org. See: https://github.com/scikit-learn/scikit-learn/issues/21755 */display: inline-block !important;position: relative;}#sk-container-id-1 div.sk-text-repr-fallback {display: none;}</style><div id=\"sk-container-id-1\" class=\"sk-top-container\"><div class=\"sk-text-repr-fallback\"><pre>LinearRegression()</pre><b>In a Jupyter environment, please rerun this cell to show the HTML representation or trust the notebook. <br />On GitHub, the HTML representation is unable to render, please try loading this page with nbviewer.org.</b></div><div class=\"sk-container\" hidden><div class=\"sk-item\"><div class=\"sk-estimator sk-toggleable\"><input class=\"sk-toggleable__control sk-hidden--visually\" id=\"sk-estimator-id-1\" type=\"checkbox\" checked><label for=\"sk-estimator-id-1\" class=\"sk-toggleable__label sk-toggleable__label-arrow\">LinearRegression</label><div class=\"sk-toggleable__content\"><pre>LinearRegression()</pre></div></div></div></div></div>"
      ],
      "text/plain": [
       "LinearRegression()"
      ]
     },
     "execution_count": 16,
     "metadata": {},
     "output_type": "execute_result"
    }
   ],
   "source": [
    "# Contruccion de un modelo de regresion lineal multiple\n",
    "from sklearn.linear_model import LinearRegression # importamos la libreria para hacer la regresion multiple\n",
    "linreg = LinearRegression() # creamos un objeto de la clase LinearRegression\n",
    "linreg.fit(X_train, y_train) # entrenaremos el modelo con los datos de entrenamiento y para hacer el ajuste de la regresion lineal multiple"
   ]
  },
  {
   "cell_type": "code",
   "execution_count": 17,
   "metadata": {},
   "outputs": [
    {
     "name": "stdout",
     "output_type": "stream",
     "text": [
      "EL INTERCEPTO ES DE: 95.9336131926735\n",
      "LOS COEFICIENTES SON DE: [10.85607131  5.91025898  0.71589393 -1.33087138]\n"
     ]
    }
   ],
   "source": [
    "# Impresion de los coeficientes de la regresion lineal multiple\n",
    "print('EL INTERCEPTO ES DE:', linreg.intercept_) # imprimiremos el INTERCEPTO\n",
    "print('LOS COEFICIENTES SON DE:', linreg.coef_) # imprimiremos los COEFICIENTES "
   ]
  },
  {
   "cell_type": "markdown",
   "metadata": {},
   "source": [
    "### La ecuacion quedaria de la siguiente forma \n",
    "### el intercepto '95.933' + el primer coeficiente que es de '10.85' * X1, + '.591' 'por que esta en notacion cientifica', * X2 \n",
    "### y asi sucesivamente hasta llegar al ultimo coeficiente"
   ]
  },
  {
   "cell_type": "code",
   "execution_count": 18,
   "metadata": {},
   "outputs": [
    {
     "data": {
      "text/plain": [
       "array([323.9684702 , 318.99111862, 351.63995823, 174.32801949,\n",
       "       196.22179696, 246.30366202, 249.80010686, 327.69501755,\n",
       "       323.43951275, 172.67624174, 272.69662047, 221.15870395,\n",
       "       322.0301954 , 263.34932072, 183.81461788, 267.43679146,\n",
       "       162.2817638 , 224.20058458, 334.07766686, 320.6056832 ,\n",
       "       318.99111862, 340.5415991 , 254.69901248, 224.20058458,\n",
       "       338.96141074, 205.27024177, 368.03937916, 321.36758011,\n",
       "       297.85515221, 130.73051692, 180.24094285, 183.81461788,\n",
       "       247.36441388, 296.30265608, 318.85746077, 280.22130457,\n",
       "       326.34493169, 309.94267381, 323.43951275, 223.34507996,\n",
       "       296.33986926, 284.3860055 , 235.0688412 , 185.37275481,\n",
       "       170.09172917, 255.95265367, 194.22831029, 341.07055655,\n",
       "       143.31137086, 184.67012251, 295.61518552, 246.56814074,\n",
       "       170.18817383, 258.29190199, 109.70865471, 313.74361439,\n",
       "       341.56513778, 333.81318814, 304.22547674, 371.84035287,\n",
       "       198.65748995, 154.71706269, 189.63109657, 311.02828094,\n",
       "       187.55632698, 349.22628356, 190.29371187, 165.36085761,\n",
       "       252.95079006, 320.34120447, 305.80566511, 273.09475704,\n",
       "       226.74508014, 179.64991695, 243.83075586, 247.72533727,\n",
       "       318.99111862, 222.85049873, 256.08631151, 267.70127019,\n",
       "       283.26318519, 341.20421439, 217.4321566 , 234.07967874,\n",
       "       277.18222778, 234.67070464, 116.56947462, 289.00527065,\n",
       "       242.63354232, 214.77605464, 231.21147297, 188.50827627,\n",
       "       140.9569608 , 213.30747268, 285.14506546, 172.27810517,\n",
       "       336.01877862, 182.33087419, 267.37472301, 247.95543977,\n",
       "       285.90412542, 227.04957588, 210.097558  , 178.85364382,\n",
       "       234.80436248, 247.13431137, 191.98550664, 182.33087419,\n",
       "       354.37450616, 225.26133644, 223.34507996, 246.37525141,\n",
       "       341.07055655, 209.5065321 , 199.41654991, 301.35440089,\n",
       "       218.87868712, 347.60888202, 218.0231825 , 298.12246789,\n",
       "       255.65096177, 320.6056832 , 210.6885839 , 174.42446416,\n",
       "       263.71024411, 249.60721753, 177.27345545, 202.48048197,\n",
       "       230.90978107, 235.0688412 ,  80.68515357, 293.37238186,\n",
       "       194.81933619, 264.10838068, 354.37450616, 354.86908739,\n",
       "       183.81461788, 316.34734143, 299.14884354, 255.95265367,\n",
       "       354.86908739, 220.26598615, 341.73597568, 185.27631015,\n",
       "       270.64670615, 325.12850368, 259.28106445, 195.32907916,\n",
       "       238.14793501, 248.08909762, 216.08207075, 298.3525704 ,\n",
       "       108.81593691, 333.18494906, 284.3860055 , 192.48008787,\n",
       "       276.98933845, 208.97473769, 215.68393418, 233.01892688,\n",
       "       270.64670615, 265.95304777, 257.39918419, 265.39639808,\n",
       "       285.80768075, 192.87822444, 347.70532669, 248.08909762,\n",
       "       351.10816382, 234.07967874, 254.69901248, 183.41648132,\n",
       "       298.67911758, 255.82183279, 305.78361367, 374.84221648,\n",
       "       271.61101334, 360.68272912, 283.6833732 , 137.38328576,\n",
       "       223.41666935, 260.38183333, 262.72108165, 190.88473776,\n",
       "       214.58316531, 376.36033639, 182.92190009, 199.45376308,\n",
       "       263.11921821, 261.27455113, 225.81798612, 369.29302035,\n",
       "       240.78887523, 308.29089605, 199.05562652, 257.13470547,\n",
       "       222.65760939, 248.58084189, 296.30265608, 289.26974938,\n",
       "       252.64909816, 254.39732058, 214.39307981, 376.36033639,\n",
       "       278.83400554, 276.82130439, 210.19400266, 333.18494906,\n",
       "       320.6056832 , 272.86465453, 224.59872115, 315.42024742,\n",
       "       292.3832194 , 220.56767806, 280.22130457, 238.01427717,\n",
       "       232.06697759, 161.02812261, 272.10559457, 354.37450616,\n",
       "       246.17000418, 281.02038154, 218.51776373, 219.48487476,\n",
       "       231.83687509, 192.24998536, 320.47486231, 197.80198533,\n",
       "       233.32061878, 271.84111585, 212.43680632, 298.08809168,\n",
       "       263.34932072, 205.93285706, 254.69901248, 273.15398853,\n",
       "       289.26974938, 190.39015653, 191.98550664, 273.81944078,\n",
       "       218.87868712, 218.42131907, 286.09701475, 314.62117045,\n",
       "       218.78224246, 217.4321566 , 235.26173054, 318.99111862,\n",
       "       332.86123885, 173.26726763, 247.13431137, 188.73837878,\n",
       "       244.49337115, 245.21805489, 252.13935518, 253.80629468,\n",
       "       213.09942161, 320.11110196, 178.98730166, 293.37238186,\n",
       "       212.11025914, 330.64045351, 325.12566672, 249.60721753,\n",
       "       154.28171295, 236.66419131, 215.28579761, 230.08865266,\n",
       "       223.41666935, 182.33087419, 277.90691152, 157.75894332,\n",
       "       268.37921981, 247.13431137, 267.37472301, 226.44338824,\n",
       "       322.84848685, 265.59212438, 250.26983282, 183.18637881,\n",
       "       263.71024411, 236.85708064, 246.56814074, 236.76063598])"
      ]
     },
     "execution_count": 18,
     "metadata": {},
     "output_type": "execute_result"
    }
   ],
   "source": [
    "# Predicciones\n",
    "y_pred = linreg.predict(X_test) # Hacemos la prediccion con los datos de prueba\n",
    "y_pred"
   ]
  },
  {
   "cell_type": "code",
   "execution_count": null,
   "metadata": {},
   "outputs": [],
   "source": [
    "# Calculo de indicadores de la bonda de ajuste\n",
    "from sklearn.metrics import r2_score # importamos la libreria para calcular el R^2-\n",
    "from sklearn import metrics # imñortamos otras librerias para calcular otros indicadores de la bondad de ajuste "
   ]
  },
  {
   "cell_type": "code",
   "execution_count": 20,
   "metadata": {},
   "outputs": [
    {
     "name": "stdout",
     "output_type": "stream",
     "text": [
      "Valor de R^2: 0.9809388418270503\n",
      "Erro absoluto Medio: 5.69451966462705\n",
      "Error Cuadratrico Medio: 72.94435631403684\n",
      "Raiz Del Error Cuadratico Medio: 8.540746824138791\n"
     ]
    }
   ],
   "source": [
    "# Impresion de indicadores de bondad de ajuste \n",
    "print('Valor de R^2:', r2_score(y_test, y_pred)) # Hay que indicarle cual es la Y real y cual de la Y de prediccion\n",
    "print('Erro absoluto Medio:', metrics.mean_absolute_error(y_test, y_pred)) # Calculamos el error absoluto medio\n",
    "print('Error Cuadratrico Medio:', metrics.mean_squared_error(y_test, y_pred)) # Calculamos el error cuadratico medio\n",
    "print('Raiz Del Error Cuadratico Medio:', np.sqrt(metrics.mean_squared_error(y_test, y_pred))) # Calculamos la raiz del error cuadratico medio "
   ]
  },
  {
   "cell_type": "code",
   "execution_count": 21,
   "metadata": {},
   "outputs": [
    {
     "name": "stdout",
     "output_type": "stream",
     "text": [
      "Primera observación de la base de prueba: FUELCONSUMPTION_CITY        15.6\n",
      "FUELCONSUMPTION_HWY         12.7\n",
      "FUELCONSUMPTION_COMB        14.3\n",
      "FUELCONSUMPTION_COMB_MPG    20.0\n",
      "Name: 786, dtype: float64\n",
      "Predicción de la primera observación: [323.9684702]\n",
      "Valor real de la primera observación: 334\n",
      "¿Coincide la predicción con el valor real? [False]\n"
     ]
    }
   ],
   "source": [
    "# Primera observación de la base de prueba\n",
    "first_observation = X_test.iloc[0]\n",
    "print(\"Primera observación de la base de prueba:\", first_observation)\n",
    "\n",
    "# Predicción de la primera observación\n",
    "first_prediction = linreg.predict([first_observation])\n",
    "print(\"Predicción de la primera observación:\", first_prediction)\n",
    "\n",
    "# Valor real de la primera observación\n",
    "real_value = y_test.iloc[0]\n",
    "print(\"Valor real de la primera observación:\", real_value)\n",
    "\n",
    "# Comparación\n",
    "print(\"¿Coincide la predicción con el valor real?\", np.isclose(first_prediction, real_value))"
   ]
  },
  {
   "cell_type": "markdown",
   "metadata": {},
   "source": [
    "# 3- Repita el ejercicio 3 pero aplicando un modelo de regresión Ridge mediante el valor de Alpha óptimo."
   ]
  },
  {
   "cell_type": "code",
   "execution_count": null,
   "metadata": {},
   "outputs": [
    {
     "data": {
      "text/plain": [
       "10.0"
      ]
     },
     "execution_count": 23,
     "metadata": {},
     "output_type": "execute_result"
    }
   ],
   "source": [
    "from sklearn.linear_model import RidgeCV # Importamos la libreria RidgeCV para hacer la regresion lineal con regularizacion\n",
    "# RidgeCV es una regresion lineal con regularizacion que nos permite hacer la validacion cruzada para encontrar el mejor valor de ALPHA\n",
    "\n",
    "from sklearn.preprocessing import MinMaxScaler # Importamos la libreria MinmaScater para normalizar los datos \n",
    "# Normalización de las características\n",
    "scaler = MinMaxScaler() # creamos un objeto de la clase MinMaxScaler\n",
    "X_train_scales = scaler.fit_transform(X_train) # Normalizamos los datos de entrenamiento\n",
    "X_test_scaled = scaler.transform(X_test) # Normalizamos los datos de prueba\n",
    "\n",
    "# Definicion un rango de prueba para Alpha\n",
    "alpha_range = 10.**np.arange(-2,3) # Creamos un rango de prueba para alpha que va de 10^-2 a 10^3 \n",
    "alpha_range\n",
    "\n",
    "ridgeregcv = RidgeCV(alphas=alpha_range, scoring='neg_mean_squared_error') # Creamos un Objeto de la clase RidgeCV con los valores de alpha_range y scoring='neg_mean_squared_error' para que nos de el error cuadratico medio \n",
    "# Ahora hacemos el ajuste a continuacion\n",
    "ridgeregcv.fit(X_train, y_train) # Entrenamos el modelo con los datos de entrenamiento # Nos dira cual Alpha es mejor para nuestro modelo\n",
    "ridgeregcv.alpha_ # nos dira cual es el mejor valor de alpha para nuestro modelo"
   ]
  },
  {
   "cell_type": "code",
   "execution_count": null,
   "metadata": {},
   "outputs": [
    {
     "name": "stdout",
     "output_type": "stream",
     "text": [
      "Valor de R^2: 0.9808997033819877\n",
      "Erro absoluto Medio: 5.709158252265118\n",
      "Error Cuadratrico Medio: 73.09413360754195\n",
      "Raiz Del Error Cuadratico Medio: 8.54951072328364\n"
     ]
    }
   ],
   "source": [
    "# Prediccion con el mejor valor de alpha\n",
    "y_pred = ridgeregcv.predict(X_test) # Hacemos la prediccion con los datos de prueba\n",
    "\n",
    "# Impresion de indicadores de bondad de ajuste \n",
    "print('Valor de R^2:', r2_score(y_test, y_pred)) # Hay que indicarle cual es la Y real y cual de la Y de prediccion\n",
    "print('Erro absoluto Medio:', metrics.mean_absolute_error(y_test, y_pred)) # Calculamos el error absoluto medio\n",
    "print('Error Cuadratrico Medio:', metrics.mean_squared_error(y_test, y_pred)) # Calculamos el error cuadratico medio\n",
    "print('Raiz Del Error Cuadratico Medio:', np.sqrt(metrics.mean_squared_error(y_test, y_pred))) # Calculamos la raiz del error cuadratico medio \n",
    "\n",
    "\n"
   ]
  },
  {
   "cell_type": "code",
   "execution_count": 25,
   "metadata": {},
   "outputs": [
    {
     "name": "stdout",
     "output_type": "stream",
     "text": [
      "Primera observación de la base de prueba: FUELCONSUMPTION_CITY        15.6\n",
      "FUELCONSUMPTION_HWY         12.7\n",
      "FUELCONSUMPTION_COMB        14.3\n",
      "FUELCONSUMPTION_COMB_MPG    20.0\n",
      "Name: 786, dtype: float64\n",
      "Predicción de la primera observación: [323.9684702]\n",
      "Valor real de la primera observación: 334\n",
      "¿Coincide la predicción con el valor real? [False]\n"
     ]
    }
   ],
   "source": [
    "# Primera observación de la base de prueba\n",
    "first_observation = X_test.iloc[0]\n",
    "print(\"Primera observación de la base de prueba:\", first_observation)\n",
    "\n",
    "# Predicción de la primera observación\n",
    "first_prediction = linreg.predict([first_observation])\n",
    "print(\"Predicción de la primera observación:\", first_prediction)\n",
    "\n",
    "# Valor real de la primera observación\n",
    "real_value = y_test.iloc[0]\n",
    "print(\"Valor real de la primera observación:\", real_value)\n",
    "\n",
    "# Comparación\n",
    "print(\"¿Coincide la predicción con el valor real?\", np.isclose(first_prediction, real_value))"
   ]
  },
  {
   "cell_type": "code",
   "execution_count": 26,
   "metadata": {},
   "outputs": [
    {
     "name": "stdout",
     "output_type": "stream",
     "text": [
      "EL INTERCEPTO ES DE: 97.12499222338494\n",
      "LOS COEFICIENTES SON DE: [ 8.07997596  3.67823551  5.67297035 -1.35146758]\n"
     ]
    }
   ],
   "source": [
    "# Examinacion de los Coeficientes de la Regresion Ridge\n",
    "print('EL INTERCEPTO ES DE:', ridgeregcv.intercept_) # imprimiremos el INTERCEPTO\n",
    "print('LOS COEFICIENTES SON DE:', ridgeregcv.coef_) # imprimiremos los COEFICIENTES "
   ]
  },
  {
   "cell_type": "markdown",
   "metadata": {},
   "source": [
    "### Podemos ver que no hay mucha diferencia de resultado Con la REGRESION RIDGECV\n",
    "\n",
    "# 4- Repita el ejercicio 3 pero aplicando un modelo de regresión Lasso mediante el valor de Alpha óptimo. "
   ]
  },
  {
   "cell_type": "code",
   "execution_count": 28,
   "metadata": {},
   "outputs": [
    {
     "name": "stdout",
     "output_type": "stream",
     "text": [
      "Valor optimo de alpha_ 0.45442206714715017\n"
     ]
    }
   ],
   "source": [
    "# Seleccion del valor optimo de alpha para la regresion LASSO\n",
    "from sklearn.linear_model import LassoCV # Importamos la libreria LassoCV para hacer la Reresion LASSO con Validacion cruzada\n",
    "# LassoCV es una regresion Lineal con regularizacion que nos permite hacer la validacion cruzada para encontrar el mejor valor de ALPHA\n",
    "\n",
    "lassoregcv = LassoCV(n_alphas=100, random_state=1) # Creamos un objeto de la clase LassoCV con los valores de alpha_range y cv=10 para que nos de el error cuadratico medio\n",
    "# n_alphas=100 es el numero de valores de alpha que queremos probar\n",
    "# random_state=1 para que siempre nos de el mismo resultado (semilla)\n",
    "lassoregcv.fit(X_train, y_train) # Entrenamos el modelo con los datos de entrenamiento \n",
    "print('Valor optimo de alpha_', lassoregcv.alpha_) # nos dira cul es el mejor valor de alpha para nuestro modelo"
   ]
  },
  {
   "cell_type": "code",
   "execution_count": 29,
   "metadata": {},
   "outputs": [
    {
     "name": "stdout",
     "output_type": "stream",
     "text": [
      "Intercepto: 99.641162203833\n",
      "Coeficientes: [11.10723214  5.8512792   0.28317683 -1.38536394]\n"
     ]
    }
   ],
   "source": [
    "print('Intercepto:', lassoregcv.intercept_) # Imprimimos el intercepto\n",
    "print('Coeficientes:', lassoregcv.coef_) # imprimimos los coeficientes de la regresion LASSO"
   ]
  },
  {
   "cell_type": "code",
   "execution_count": 30,
   "metadata": {},
   "outputs": [
    {
     "name": "stdout",
     "output_type": "stream",
     "text": [
      "Valor de R^2: 0.980417172261453\n",
      "Erro absoluto Medio: 5.842640097466093\n",
      "Error Cuadratrico Medio: 74.94071195653487\n",
      "Raiz Del Error Cuadratico Medio: 8.656830364315502\n"
     ]
    }
   ],
   "source": [
    "# Prediccion mediante REGRESION DE LASSO con un ALPHA optimo \n",
    "y_pred = lassoregcv.predict(X_test) # Hacemos la prediccion con los datos de prueba\n",
    "\n",
    "# Impresion de indicadores de bondad de ajuste \n",
    "print('Valor de R^2:', r2_score(y_test, y_pred)) # Hay que indicarle cual es la Y real y cual de la Y de prediccion\n",
    "print('Erro absoluto Medio:', metrics.mean_absolute_error(y_test, y_pred)) # Calculamos el error absoluto medio\n",
    "print('Error Cuadratrico Medio:', metrics.mean_squared_error(y_test, y_pred)) # Calculamos el error cuadratico medio\n",
    "print('Raiz Del Error Cuadratico Medio:', np.sqrt(metrics.mean_squared_error(y_test, y_pred))) # Calculamos la raiz del error cuadratic"
   ]
  },
  {
   "cell_type": "markdown",
   "metadata": {},
   "source": [
    "El modelo de regresión lineal múltiple resultó ser el mejor entre los tres, ya que:\n",
    "\n",
    "R² más alto: 0.9809, lo que indica que explica mejor la variabilidad de los datos.\n",
    "\n",
    "Errores más bajos: MAE (5.6945), MSE (72.9444) y RMSE (8.5407) son menores que en los modelos Ridge y Lasso.\n",
    "\n",
    "Simplicidad: No requiere ajustar un parámetro de regularización (alpha), lo que lo hace más fácil de implementar y entender.\n",
    "\n",
    "El modelo Ridge tuvo un rendimiento muy similar al de regresión lineal múltiple, pero no mejoró significativamente los resultados. Esto sugiere que la regularización Ridge no fue necesaria en este caso, ya que los datos no presentaban problemas de multicolinealidad severa.\n",
    "\n",
    "El modelo Lasso tuvo un rendimiento ligeramente inferior, con un R² más bajo y errores ligeramente mayores. Esto puede deberse a que Lasso tiende a reducir algunos coeficientes a cero, lo que puede no ser beneficioso si todas las variables son relevantes para el modelo.\n",
    "\n",
    "En conclusión, el modelo de regresión lineal múltiple es el más adecuado para este conjunto de datos, ya que ofrece el mejor equilibrio entre precisión y simplicidad.\n",
    "\n"
   ]
  }
 ],
 "metadata": {
  "kernelspec": {
   "display_name": "Python 3",
   "language": "python",
   "name": "python3"
  },
  "language_info": {
   "codemirror_mode": {
    "name": "ipython",
    "version": 3
   },
   "file_extension": ".py",
   "mimetype": "text/x-python",
   "name": "python",
   "nbconvert_exporter": "python",
   "pygments_lexer": "ipython3",
   "version": "3.12.4"
  }
 },
 "nbformat": 4,
 "nbformat_minor": 2
}
