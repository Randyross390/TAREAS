{
 "cells": [
  {
   "cell_type": "code",
   "execution_count": 293,
   "metadata": {},
   "outputs": [],
   "source": [
    "import pandas as pd\n",
    "from sklearn.model_selection import train_test_split\n",
    "from sklearn.linear_model import LogisticRegression\n",
    "from sklearn.metrics import classification_report\n",
    "from sklearn import metrics\n",
    "import matplotlib.pyplot as plt\n",
    "from sklearn import preprocessing\n",
    "from sklearn.preprocessing import LabelEncoder\n",
    "import numpy as np\n",
    "import warnings\n",
    "warnings.filterwarnings('ignore')"
   ]
  },
  {
   "cell_type": "code",
   "execution_count": 294,
   "metadata": {},
   "outputs": [
    {
     "data": {
      "text/html": [
       "<div>\n",
       "<style scoped>\n",
       "    .dataframe tbody tr th:only-of-type {\n",
       "        vertical-align: middle;\n",
       "    }\n",
       "\n",
       "    .dataframe tbody tr th {\n",
       "        vertical-align: top;\n",
       "    }\n",
       "\n",
       "    .dataframe thead th {\n",
       "        text-align: right;\n",
       "    }\n",
       "</style>\n",
       "<table border=\"1\" class=\"dataframe\">\n",
       "  <thead>\n",
       "    <tr style=\"text-align: right;\">\n",
       "      <th></th>\n",
       "      <th>Age</th>\n",
       "      <th>Sex</th>\n",
       "      <th>BP</th>\n",
       "      <th>Cholesterol</th>\n",
       "      <th>Na_to_K</th>\n",
       "      <th>Drug</th>\n",
       "    </tr>\n",
       "  </thead>\n",
       "  <tbody>\n",
       "    <tr>\n",
       "      <th>0</th>\n",
       "      <td>23</td>\n",
       "      <td>F</td>\n",
       "      <td>HIGH</td>\n",
       "      <td>HIGH</td>\n",
       "      <td>25.355</td>\n",
       "      <td>drugY</td>\n",
       "    </tr>\n",
       "    <tr>\n",
       "      <th>1</th>\n",
       "      <td>47</td>\n",
       "      <td>M</td>\n",
       "      <td>LOW</td>\n",
       "      <td>HIGH</td>\n",
       "      <td>13.093</td>\n",
       "      <td>drugC</td>\n",
       "    </tr>\n",
       "    <tr>\n",
       "      <th>2</th>\n",
       "      <td>47</td>\n",
       "      <td>M</td>\n",
       "      <td>LOW</td>\n",
       "      <td>HIGH</td>\n",
       "      <td>10.114</td>\n",
       "      <td>drugC</td>\n",
       "    </tr>\n",
       "    <tr>\n",
       "      <th>3</th>\n",
       "      <td>28</td>\n",
       "      <td>F</td>\n",
       "      <td>NORMAL</td>\n",
       "      <td>HIGH</td>\n",
       "      <td>7.798</td>\n",
       "      <td>drugX</td>\n",
       "    </tr>\n",
       "    <tr>\n",
       "      <th>4</th>\n",
       "      <td>61</td>\n",
       "      <td>F</td>\n",
       "      <td>LOW</td>\n",
       "      <td>HIGH</td>\n",
       "      <td>18.043</td>\n",
       "      <td>drugY</td>\n",
       "    </tr>\n",
       "  </tbody>\n",
       "</table>\n",
       "</div>"
      ],
      "text/plain": [
       "   Age Sex      BP Cholesterol  Na_to_K   Drug\n",
       "0   23   F    HIGH        HIGH   25.355  drugY\n",
       "1   47   M     LOW        HIGH   13.093  drugC\n",
       "2   47   M     LOW        HIGH   10.114  drugC\n",
       "3   28   F  NORMAL        HIGH    7.798  drugX\n",
       "4   61   F     LOW        HIGH   18.043  drugY"
      ]
     },
     "execution_count": 294,
     "metadata": {},
     "output_type": "execute_result"
    }
   ],
   "source": [
    "Ubicacion = r\"C:\\Users\\randy\\EBAC.PRACTICAS\\drugs (1).csv\"\n",
    "df = pd.read_csv('drugs (1).csv')\n",
    "df.head()"
   ]
  },
  {
   "cell_type": "code",
   "execution_count": 295,
   "metadata": {},
   "outputs": [
    {
     "data": {
      "text/html": [
       "<div>\n",
       "<style scoped>\n",
       "    .dataframe tbody tr th:only-of-type {\n",
       "        vertical-align: middle;\n",
       "    }\n",
       "\n",
       "    .dataframe tbody tr th {\n",
       "        vertical-align: top;\n",
       "    }\n",
       "\n",
       "    .dataframe thead th {\n",
       "        text-align: right;\n",
       "    }\n",
       "</style>\n",
       "<table border=\"1\" class=\"dataframe\">\n",
       "  <thead>\n",
       "    <tr style=\"text-align: right;\">\n",
       "      <th></th>\n",
       "      <th>Age</th>\n",
       "      <th>Sex</th>\n",
       "      <th>BP</th>\n",
       "      <th>Cholesterol</th>\n",
       "      <th>Na_to_K</th>\n",
       "      <th>Drug</th>\n",
       "    </tr>\n",
       "  </thead>\n",
       "  <tbody>\n",
       "    <tr>\n",
       "      <th>0</th>\n",
       "      <td>23</td>\n",
       "      <td>F</td>\n",
       "      <td>HIGH</td>\n",
       "      <td>HIGH</td>\n",
       "      <td>25.355</td>\n",
       "      <td>drugY</td>\n",
       "    </tr>\n",
       "    <tr>\n",
       "      <th>1</th>\n",
       "      <td>47</td>\n",
       "      <td>M</td>\n",
       "      <td>LOW</td>\n",
       "      <td>HIGH</td>\n",
       "      <td>13.093</td>\n",
       "      <td>drugC</td>\n",
       "    </tr>\n",
       "    <tr>\n",
       "      <th>2</th>\n",
       "      <td>47</td>\n",
       "      <td>M</td>\n",
       "      <td>LOW</td>\n",
       "      <td>HIGH</td>\n",
       "      <td>10.114</td>\n",
       "      <td>drugC</td>\n",
       "    </tr>\n",
       "    <tr>\n",
       "      <th>3</th>\n",
       "      <td>28</td>\n",
       "      <td>F</td>\n",
       "      <td>NORMAL</td>\n",
       "      <td>HIGH</td>\n",
       "      <td>7.798</td>\n",
       "      <td>drugX</td>\n",
       "    </tr>\n",
       "    <tr>\n",
       "      <th>4</th>\n",
       "      <td>61</td>\n",
       "      <td>F</td>\n",
       "      <td>LOW</td>\n",
       "      <td>HIGH</td>\n",
       "      <td>18.043</td>\n",
       "      <td>drugY</td>\n",
       "    </tr>\n",
       "    <tr>\n",
       "      <th>...</th>\n",
       "      <td>...</td>\n",
       "      <td>...</td>\n",
       "      <td>...</td>\n",
       "      <td>...</td>\n",
       "      <td>...</td>\n",
       "      <td>...</td>\n",
       "    </tr>\n",
       "    <tr>\n",
       "      <th>195</th>\n",
       "      <td>56</td>\n",
       "      <td>F</td>\n",
       "      <td>LOW</td>\n",
       "      <td>HIGH</td>\n",
       "      <td>11.567</td>\n",
       "      <td>drugC</td>\n",
       "    </tr>\n",
       "    <tr>\n",
       "      <th>196</th>\n",
       "      <td>16</td>\n",
       "      <td>M</td>\n",
       "      <td>LOW</td>\n",
       "      <td>HIGH</td>\n",
       "      <td>12.006</td>\n",
       "      <td>drugC</td>\n",
       "    </tr>\n",
       "    <tr>\n",
       "      <th>197</th>\n",
       "      <td>52</td>\n",
       "      <td>M</td>\n",
       "      <td>NORMAL</td>\n",
       "      <td>HIGH</td>\n",
       "      <td>9.894</td>\n",
       "      <td>drugX</td>\n",
       "    </tr>\n",
       "    <tr>\n",
       "      <th>198</th>\n",
       "      <td>23</td>\n",
       "      <td>M</td>\n",
       "      <td>NORMAL</td>\n",
       "      <td>NORMAL</td>\n",
       "      <td>14.020</td>\n",
       "      <td>drugX</td>\n",
       "    </tr>\n",
       "    <tr>\n",
       "      <th>199</th>\n",
       "      <td>40</td>\n",
       "      <td>F</td>\n",
       "      <td>LOW</td>\n",
       "      <td>NORMAL</td>\n",
       "      <td>11.349</td>\n",
       "      <td>drugX</td>\n",
       "    </tr>\n",
       "  </tbody>\n",
       "</table>\n",
       "<p>200 rows × 6 columns</p>\n",
       "</div>"
      ],
      "text/plain": [
       "     Age Sex      BP Cholesterol  Na_to_K   Drug\n",
       "0     23   F    HIGH        HIGH   25.355  drugY\n",
       "1     47   M     LOW        HIGH   13.093  drugC\n",
       "2     47   M     LOW        HIGH   10.114  drugC\n",
       "3     28   F  NORMAL        HIGH    7.798  drugX\n",
       "4     61   F     LOW        HIGH   18.043  drugY\n",
       "..   ...  ..     ...         ...      ...    ...\n",
       "195   56   F     LOW        HIGH   11.567  drugC\n",
       "196   16   M     LOW        HIGH   12.006  drugC\n",
       "197   52   M  NORMAL        HIGH    9.894  drugX\n",
       "198   23   M  NORMAL      NORMAL   14.020  drugX\n",
       "199   40   F     LOW      NORMAL   11.349  drugX\n",
       "\n",
       "[200 rows x 6 columns]"
      ]
     },
     "execution_count": 295,
     "metadata": {},
     "output_type": "execute_result"
    }
   ],
   "source": [
    "df"
   ]
  },
  {
   "cell_type": "code",
   "execution_count": 296,
   "metadata": {},
   "outputs": [
    {
     "data": {
      "image/png": "[encoded data removed]",
      "text/plain": [
       "<Figure size 1000x600 with 1 Axes>"
      ]
     },
     "metadata": {},
     "output_type": "display_data"
    }
   ],
   "source": [
    "import seaborn as sns\n",
    "\n",
    "# Generar un mapa de calor para detectar valores faltantes\n",
    "plt.figure(figsize=(10, 6))\n",
    "sns.heatmap(df.isnull(), cbar=False, cmap='viridis')\n",
    "plt.title('Mapa de calor de valores faltantes')\n",
    "plt.show()"
   ]
  },
  {
   "cell_type": "code",
   "execution_count": 297,
   "metadata": {},
   "outputs": [
    {
     "name": "stdout",
     "output_type": "stream",
     "text": [
      "['drugY' 'drugC' 'drugX' 'drugA' 'drugB']\n"
     ]
    }
   ],
   "source": [
    "# Checamos los valores de la variable a predecir 'Drug'\n",
    "valores_unicos_Drug = df['Drug'].unique()\n",
    "print(valores_unicos_Drug)"
   ]
  },
  {
   "cell_type": "code",
   "execution_count": 298,
   "metadata": {},
   "outputs": [
    {
     "name": "stdout",
     "output_type": "stream",
     "text": [
      "['HIGH' 'NORMAL']\n"
     ]
    }
   ],
   "source": [
    "# Checamos los valores de la variable 'Cholesterol' para identificar que modificaciones se le pueden hacer\n",
    "valores_unicos_cholesterol = df['Cholesterol'].unique()\n",
    "print(valores_unicos_cholesterol)"
   ]
  },
  {
   "cell_type": "code",
   "execution_count": 299,
   "metadata": {},
   "outputs": [
    {
     "name": "stdout",
     "output_type": "stream",
     "text": [
      "['HIGH' 'LOW' 'NORMAL']\n"
     ]
    }
   ],
   "source": [
    "# Checamos los valores de la variable 'BP' para identificar que modificaciones se le pueden hacer\n",
    "valores_unicos_BP = df['BP'].unique()\n",
    "print(valores_unicos_BP)"
   ]
  },
  {
   "cell_type": "code",
   "execution_count": 300,
   "metadata": {},
   "outputs": [
    {
     "name": "stdout",
     "output_type": "stream",
     "text": [
      "['drugY' 'drugC' 'drugX' 'drugA' 'drugB']\n"
     ]
    }
   ],
   "source": [
    "# Checamos los valores de la variable 'BP' para identificar que modificaciones se le pueden hacer\n",
    "valores_unicos_Drug = df['Drug'].unique()\n",
    "print(valores_unicos_Drug)"
   ]
  },
  {
   "cell_type": "code",
   "execution_count": 301,
   "metadata": {},
   "outputs": [
    {
     "data": {
      "text/plain": [
       "Age              int64\n",
       "Sex             object\n",
       "BP              object\n",
       "Cholesterol     object\n",
       "Na_to_K        float64\n",
       "Drug            object\n",
       "dtype: object"
      ]
     },
     "execution_count": 301,
     "metadata": {},
     "output_type": "execute_result"
    }
   ],
   "source": [
    "df.dtypes"
   ]
  },
  {
   "cell_type": "code",
   "execution_count": 302,
   "metadata": {},
   "outputs": [],
   "source": [
    "le = LabelEncoder()"
   ]
  },
  {
   "cell_type": "code",
   "execution_count": 303,
   "metadata": {},
   "outputs": [],
   "source": [
    "# Codificamos las variables categóricas\n",
    "df['Sex'] = le.fit_transform(df['Sex'])\n",
    "df['BP'] = le.fit_transform(df['BP'])\n",
    "df['Cholesterol'] = le.fit_transform(df['Cholesterol'])\n",
    "df['Drug'] = le.fit_transform(df['Drug'])  # Si esta es la variable objetivo"
   ]
  },
  {
   "cell_type": "code",
   "execution_count": 304,
   "metadata": {},
   "outputs": [
    {
     "data": {
      "text/plain": [
       "Age              int64\n",
       "Sex              int32\n",
       "BP               int32\n",
       "Cholesterol      int32\n",
       "Na_to_K        float64\n",
       "Drug             int32\n",
       "dtype: object"
      ]
     },
     "execution_count": 304,
     "metadata": {},
     "output_type": "execute_result"
    }
   ],
   "source": [
    "df.dtypes"
   ]
  },
  {
   "cell_type": "code",
   "execution_count": 305,
   "metadata": {},
   "outputs": [],
   "source": [
    "feature_cols = ['Age', 'Sex', 'BP', 'Cholesterol', 'Na_to_K']\n",
    "X = df[feature_cols]\n",
    "y = df.Drug"
   ]
  },
  {
   "cell_type": "code",
   "execution_count": 306,
   "metadata": {},
   "outputs": [],
   "source": [
    "# Creacion de las bases de entresnmiento y prueba\n",
    "X_train, X_test, y_train, y_test = train_test_split(X, y, test_size=0.2, random_state=1)"
   ]
  },
  {
   "cell_type": "markdown",
   "metadata": {},
   "source": [
    "# Regresión Logística con Solucionador (Solver): sag"
   ]
  },
  {
   "cell_type": "code",
   "execution_count": 307,
   "metadata": {},
   "outputs": [
    {
     "name": "stdout",
     "output_type": "stream",
     "text": [
      "Intercept (Beta0) [ 0.25207578 -0.08615411  0.08534729  0.29173555 -0.54300452]\n",
      "Pesos (Betas):  [[-0.02659075  0.16102209 -0.64374796  0.05564697  0.1003734 ]\n",
      " [ 0.07156039 -0.04174398 -0.61906882 -0.0104194  -0.27710282]\n",
      " [-0.00370589  0.0127657   0.14632868 -0.2757111  -0.01628291]\n",
      " [ 0.01001018 -0.04951358  1.29155402  0.42877029 -0.11693387]\n",
      " [-0.05127393 -0.08253024 -0.17506592 -0.19828676  0.3099462 ]]\n",
      "-------------------------------------------------------\n",
      "Score de precision global: 0.7\n",
      "-------------------------------------------------------\n",
      "              precision    recall  f1-score   support\n",
      "\n",
      "           0       0.00      0.00      0.00         4\n",
      "           1       0.33      1.00      0.50         2\n",
      "           2       0.00      0.00      0.00         4\n",
      "           3       0.79      0.85      0.81        13\n",
      "           4       0.75      0.88      0.81        17\n",
      "\n",
      "    accuracy                           0.70        40\n",
      "   macro avg       0.37      0.55      0.43        40\n",
      "weighted avg       0.59      0.70      0.63        40\n",
      "\n"
     ]
    }
   ],
   "source": [
    "model = LogisticRegression(solver='sag')\n",
    "clf = model.fit(X_train, y_train) \n",
    "\n",
    "y_pred = model.predict(X_test)\n",
    "\n",
    "# Impresion de los coeficientes\n",
    "print('Intercept (Beta0)', clf.intercept_)\n",
    "print('Pesos (Betas): ', clf.coef_)\n",
    "print('-------------------------------------------------------')\n",
    "# Estadisticas de desempeño\n",
    "score = model.score(X_test, y_test)\n",
    "print('Score de precision global:', score)\n",
    "print('-------------------------------------------------------')\n",
    "print(classification_report(y_test, y_pred))"
   ]
  },
  {
   "cell_type": "markdown",
   "metadata": {},
   "source": [
    "# Regresión Logística con Solucionador (Solver): newton-cg"
   ]
  },
  {
   "cell_type": "code",
   "execution_count": 308,
   "metadata": {},
   "outputs": [
    {
     "name": "stdout",
     "output_type": "stream",
     "text": [
      "Intercept (Beta0) [ 14.92975078   0.87908514  10.25646689   6.24456603 -32.30986884]\n",
      "Pesos (Betas):  [[-8.96233943e-02  3.54941861e-02 -2.31758766e+00 -4.79056881e-01\n",
      "  -6.88045365e-01]\n",
      " [ 1.24903584e-01 -6.72367714e-02 -1.72770016e+00  8.90293254e-02\n",
      "  -4.39128762e-01]\n",
      " [-2.62272325e-02 -8.10879580e-02  5.55542575e-01 -1.49469743e+00\n",
      "  -6.08750699e-01]\n",
      " [-6.11395323e-03 -3.06446648e-01  3.07000042e+00  1.74859712e+00\n",
      "  -5.84067240e-01]\n",
      " [-2.98921438e-03  4.19276859e-01  4.19741780e-01  1.36126972e-01\n",
      "   2.31996180e+00]]\n",
      "-------------------------------------------------------\n",
      "Score de precision global: 0.95\n",
      "-------------------------------------------------------\n",
      "              precision    recall  f1-score   support\n",
      "\n",
      "           0       1.00      1.00      1.00         4\n",
      "           1       0.50      1.00      0.67         2\n",
      "           2       1.00      0.50      0.67         4\n",
      "           3       1.00      1.00      1.00        13\n",
      "           4       1.00      1.00      1.00        17\n",
      "\n",
      "    accuracy                           0.95        40\n",
      "   macro avg       0.90      0.90      0.87        40\n",
      "weighted avg       0.97      0.95      0.95        40\n",
      "\n"
     ]
    }
   ],
   "source": [
    "model = LogisticRegression(solver='newton-cg')\n",
    "clf = model.fit(X_train, y_train) \n",
    "\n",
    "y_pred = model.predict(X_test)\n",
    "\n",
    "# Impresion de los coeficientes\n",
    "print('Intercept (Beta0)', clf.intercept_)\n",
    "print('Pesos (Betas): ', clf.coef_)\n",
    "print('-------------------------------------------------------')\n",
    "# Estadisticas de desempeño\n",
    "score = model.score(X_test, y_test)\n",
    "print('Score de precision global:', score)\n",
    "print('-------------------------------------------------------')\n",
    "print(classification_report(y_test, y_pred))"
   ]
  },
  {
   "cell_type": "markdown",
   "metadata": {},
   "source": [
    "# Regresión Logística con Solucionador (Solver): liblinear "
   ]
  },
  {
   "cell_type": "code",
   "execution_count": 309,
   "metadata": {},
   "outputs": [
    {
     "name": "stdout",
     "output_type": "stream",
     "text": [
      "Intercept (Beta0) [ 2.40746561 -0.69169247  0.59552877  0.49274606 -4.53305879]\n",
      "Pesos (Betas):  [[-2.92140699e-02  4.44045986e-01 -2.27567481e+00 -3.95479579e-01\n",
      "  -1.64992579e-01]\n",
      " [ 1.06714256e-01 -4.68494848e-01 -2.51665437e+00 -2.91727058e-01\n",
      "  -4.28052683e-01]\n",
      " [-2.39661125e-03  5.01768347e-03 -5.76612086e-02 -1.77734484e+00\n",
      "  -1.83201943e-01]\n",
      " [ 9.67804589e-03 -5.71764844e-01  3.03029788e+00  2.17470282e+00\n",
      "  -4.65843053e-01]\n",
      " [-4.05475257e-02  5.57354674e-02 -2.72511077e-01 -4.43385662e-01\n",
      "   4.48981390e-01]]\n",
      "-------------------------------------------------------\n",
      "Score de precision global: 0.825\n",
      "-------------------------------------------------------\n",
      "              precision    recall  f1-score   support\n",
      "\n",
      "           0       1.00      0.75      0.86         4\n",
      "           1       0.40      1.00      0.57         2\n",
      "           2       0.00      0.00      0.00         4\n",
      "           3       0.81      1.00      0.90        13\n",
      "           4       0.94      0.88      0.91        17\n",
      "\n",
      "    accuracy                           0.82        40\n",
      "   macro avg       0.63      0.73      0.65        40\n",
      "weighted avg       0.78      0.82      0.79        40\n",
      "\n"
     ]
    }
   ],
   "source": [
    "model = LogisticRegression(solver='liblinear')\n",
    "clf = model.fit(X_train, y_train) \n",
    "\n",
    "y_pred = model.predict(X_test)\n",
    "\n",
    "# Impresion de los coeficientes\n",
    "print('Intercept (Beta0)', clf.intercept_)\n",
    "print('Pesos (Betas): ', clf.coef_)\n",
    "print('-------------------------------------------------------')\n",
    "# Estadisticas de desempeño\n",
    "score = model.score(X_test, y_test)\n",
    "print('Score de precision global:', score)\n",
    "print('-------------------------------------------------------')\n",
    "print(classification_report(y_test, y_pred))"
   ]
  },
  {
   "cell_type": "markdown",
   "metadata": {},
   "source": [
    "# Regresión Logística con Solucionador (Solver): saga"
   ]
  },
  {
   "cell_type": "code",
   "execution_count": 310,
   "metadata": {},
   "outputs": [
    {
     "name": "stdout",
     "output_type": "stream",
     "text": [
      "Intercept (Beta0) [ 0.1281923  -0.05346107  0.04048128  0.1764519  -0.29166442]\n",
      "Pesos (Betas):  [[-0.02418384  0.09159363 -0.38754955  0.03714532  0.08734973]\n",
      " [ 0.06544634 -0.01995966 -0.38608951 -0.00131636 -0.26881485]\n",
      " [-0.00366236  0.00611997  0.06842939 -0.14812718 -0.01987412]\n",
      " [ 0.01348848 -0.02592926  0.85867943  0.2277536  -0.08056311]\n",
      " [-0.05108862 -0.05182468 -0.15346975 -0.11545539  0.28190234]]\n",
      "-------------------------------------------------------\n",
      "Score de precision global: 0.725\n",
      "-------------------------------------------------------\n",
      "              precision    recall  f1-score   support\n",
      "\n",
      "           0       0.00      0.00      0.00         4\n",
      "           1       0.33      1.00      0.50         2\n",
      "           2       0.00      0.00      0.00         4\n",
      "           3       0.85      0.85      0.85        13\n",
      "           4       0.76      0.94      0.84        17\n",
      "\n",
      "    accuracy                           0.73        40\n",
      "   macro avg       0.39      0.56      0.44        40\n",
      "weighted avg       0.62      0.72      0.66        40\n",
      "\n"
     ]
    }
   ],
   "source": [
    "model = LogisticRegression(solver='saga')\n",
    "clf = model.fit(X_train, y_train) \n",
    "\n",
    "y_pred = model.predict(X_test)\n",
    "\n",
    "# Impresion de los coeficientes\n",
    "print('Intercept (Beta0)', clf.intercept_)\n",
    "print('Pesos (Betas): ', clf.coef_)\n",
    "print('-------------------------------------------------------')\n",
    "# Estadisticas de desempeño\n",
    "score = model.score(X_test, y_test)\n",
    "print('Score de precision global:', score)\n",
    "print('-------------------------------------------------------')\n",
    "print(classification_report(y_test, y_pred))"
   ]
  },
  {
   "cell_type": "markdown",
   "metadata": {},
   "source": [
    "# Regresión Logística con Solucionador (Solver): lbfgs"
   ]
  },
  {
   "cell_type": "code",
   "execution_count": 311,
   "metadata": {},
   "outputs": [
    {
     "name": "stdout",
     "output_type": "stream",
     "text": [
      "Intercept (Beta0) [ 2.30104765 -0.56738387  1.04349182  1.46124869 -4.23840429]\n",
      "Pesos (Betas):  [[-0.03550946  0.6909232  -2.91327384 -0.30360455  0.06574731]\n",
      " [ 0.1102042  -0.4572076  -2.74886256 -0.30703636 -0.27225874]\n",
      " [-0.02012314  0.13536832  1.17440507 -1.75632459  0.00425809]\n",
      " [-0.01212402 -0.54988536  4.02268195  2.83663769 -0.37066596]\n",
      " [-0.04244758  0.18080144  0.46504939 -0.46967219  0.57291931]]\n",
      "-------------------------------------------------------\n",
      "Score de precision global: 0.85\n",
      "-------------------------------------------------------\n",
      "              precision    recall  f1-score   support\n",
      "\n",
      "           0       1.00      0.75      0.86         4\n",
      "           1       0.50      1.00      0.67         2\n",
      "           2       1.00      0.25      0.40         4\n",
      "           3       0.81      1.00      0.90        13\n",
      "           4       0.94      0.88      0.91        17\n",
      "\n",
      "    accuracy                           0.85        40\n",
      "   macro avg       0.85      0.78      0.75        40\n",
      "weighted avg       0.89      0.85      0.84        40\n",
      "\n"
     ]
    }
   ],
   "source": [
    "model = LogisticRegression(solver='lbfgs')\n",
    "clf = model.fit(X_train, y_train) \n",
    "\n",
    "y_pred = model.predict(X_test)\n",
    "\n",
    "# Impresion de los coeficientes\n",
    "print('Intercept (Beta0)', clf.intercept_)\n",
    "print('Pesos (Betas): ', clf.coef_)\n",
    "print('-------------------------------------------------------')\n",
    "# Estadisticas de desempeño\n",
    "score = model.score(X_test, y_test)\n",
    "print('Score de precision global:', score)\n",
    "print('-------------------------------------------------------')\n",
    "print(classification_report(y_test, y_pred))"
   ]
  },
  {
   "cell_type": "markdown",
   "metadata": {},
   "source": [
    "# podemos notar que el modelo que mejores estadisticas de desempeño fue 'Newton-cg' ya que otorgo un score global del 95% DE eficacia y dando un score F1 de 100%, 67%, 67%, 100, y 100% de fectividad para las los diferentes tipos de farmacos."
   ]
  },
  {
   "cell_type": "code",
   "execution_count": 312,
   "metadata": {},
   "outputs": [
    {
     "name": "stdout",
     "output_type": "stream",
     "text": [
      "Intercept (Beta0) [ 14.92975078   0.87908514  10.25646689   6.24456603 -32.30986884]\n",
      "Pesos (Betas):  [[-8.96233943e-02  3.54941861e-02 -2.31758766e+00 -4.79056881e-01\n",
      "  -6.88045365e-01]\n",
      " [ 1.24903584e-01 -6.72367714e-02 -1.72770016e+00  8.90293254e-02\n",
      "  -4.39128762e-01]\n",
      " [-2.62272325e-02 -8.10879580e-02  5.55542575e-01 -1.49469743e+00\n",
      "  -6.08750699e-01]\n",
      " [-6.11395323e-03 -3.06446648e-01  3.07000042e+00  1.74859712e+00\n",
      "  -5.84067240e-01]\n",
      " [-2.98921438e-03  4.19276859e-01  4.19741780e-01  1.36126972e-01\n",
      "   2.31996180e+00]]\n",
      "-------------------------------------------------------\n",
      "Score de precision global: 0.95\n",
      "-------------------------------------------------------\n",
      "              precision    recall  f1-score   support\n",
      "\n",
      "           0       1.00      1.00      1.00         4\n",
      "           1       0.50      1.00      0.67         2\n",
      "           2       1.00      0.50      0.67         4\n",
      "           3       1.00      1.00      1.00        13\n",
      "           4       1.00      1.00      1.00        17\n",
      "\n",
      "    accuracy                           0.95        40\n",
      "   macro avg       0.90      0.90      0.87        40\n",
      "weighted avg       0.97      0.95      0.95        40\n",
      "\n"
     ]
    }
   ],
   "source": [
    "model = LogisticRegression(solver='newton-cg')\n",
    "clf = model.fit(X_train, y_train) \n",
    "\n",
    "y_pred = model.predict(X_test)\n",
    "\n",
    "# Impresion de los coeficientes\n",
    "print('Intercept (Beta0)', clf.intercept_)\n",
    "print('Pesos (Betas): ', clf.coef_)\n",
    "print('-------------------------------------------------------')\n",
    "# Estadisticas de desempeño\n",
    "score = model.score(X_test, y_test)\n",
    "print('Score de precision global:', score)\n",
    "print('-------------------------------------------------------')\n",
    "print(classification_report(y_test, y_pred))"
   ]
  },
  {
   "cell_type": "code",
   "execution_count": 313,
   "metadata": {},
   "outputs": [
    {
     "data": {
      "text/plain": [
       "array([8.56522262e-04, 3.72793592e-07, 2.57821416e-03, 2.83993218e-03,\n",
       "       7.12434264e-30])"
      ]
     },
     "execution_count": 313,
     "metadata": {},
     "output_type": "execute_result"
    }
   ],
   "source": [
    "# Prediccion de probabilidades para casos particulares\n",
    "y_pred_proba = clf.predict_proba(X_test)[:,1] # Probabilidad de clase 1\n",
    "y_pred_proba[:5] # Primeras 5 probabilidades de clase 1"
   ]
  },
  {
   "cell_type": "code",
   "execution_count": 314,
   "metadata": {},
   "outputs": [
    {
     "data": {
      "text/plain": [
       "58     3\n",
       "40     4\n",
       "34     3\n",
       "102    2\n",
       "184    4\n",
       "Name: Drug, dtype: int32"
      ]
     },
     "execution_count": 314,
     "metadata": {},
     "output_type": "execute_result"
    }
   ],
   "source": [
    "y_test[:5] # Primeras 5 clase reales"
   ]
  },
  {
   "cell_type": "code",
   "execution_count": 315,
   "metadata": {},
   "outputs": [
    {
     "data": {
      "text/plain": [
       "array([3, 4, 3, 2, 4])"
      ]
     },
     "execution_count": 315,
     "metadata": {},
     "output_type": "execute_result"
    }
   ],
   "source": [
    "y_test = y_test.to_numpy()\n",
    "y_test[:5] "
   ]
  },
  {
   "cell_type": "code",
   "execution_count": 316,
   "metadata": {},
   "outputs": [],
   "source": [
    "from sklearn.metrics import roc_curve, roc_auc_score"
   ]
  },
  {
   "cell_type": "code",
   "execution_count": 317,
   "metadata": {},
   "outputs": [
    {
     "name": "stdout",
     "output_type": "stream",
     "text": [
      "AUC Score: 1.0\n"
     ]
    }
   ],
   "source": [
    "# Obtener probabilidades de predicción para cada clase\n",
    "y_pred_proba = model.predict_proba(X_test)\n",
    "\n",
    "# Calcular el AUC en formato multiclase\n",
    "auc = roc_auc_score(y_test, y_pred_proba, multi_class=\"ovr\")  # También puedes probar \"ovo\"\n",
    "print(\"AUC Score:\", auc)"
   ]
  },
  {
   "cell_type": "code",
   "execution_count": 318,
   "metadata": {},
   "outputs": [
    {
     "data": {
      "image/png": "[encoded data removed]",
      "text/plain": [
       "<Figure size 640x480 with 1 Axes>"
      ]
     },
     "metadata": {},
     "output_type": "display_data"
    }
   ],
   "source": [
    "\n",
    "plt.plot([0,1], [0,1], 'k--')\n",
    "plt.plot(fpr, tpr, marker='.', label='Curva ROC (Area = %0.2f)' % auc)\n",
    "plt.xlabel('Taza de falsos positivos')  # False positivos rate\n",
    "plt.ylabel('Taza de verdaderos positivos')  # True positivos rate\n",
    "plt.legend(loc= 'lower right')\n",
    "plt.title('Curva ROC para regresion Logistica')\n",
    "plt.show()"
   ]
  },
  {
   "cell_type": "code",
   "execution_count": 319,
   "metadata": {},
   "outputs": [
    {
     "name": "stdout",
     "output_type": "stream",
     "text": [
      "Scores de validación cruzada: [1.    0.975 1.    0.875 1.   ]\n",
      "Promedio de los scores: 0.97\n",
      "Desviación estándar de los scores: 0.04847679857416329\n"
     ]
    }
   ],
   "source": [
    "from sklearn.model_selection import cross_val_score\n",
    "\n",
    "# Realizamos la validación cruzada\n",
    "cv_scores = cross_val_score(model, X, y, cv=5, scoring='accuracy')\n",
    "\n",
    "# Mostramos los resultados\n",
    "print(\"Scores de validación cruzada:\", cv_scores)\n",
    "print(\"Promedio de los scores:\", np.mean(cv_scores))\n",
    "print(\"Desviación estándar de los scores:\", np.std(cv_scores))"
   ]
  },
  {
   "cell_type": "code",
   "execution_count": null,
   "metadata": {},
   "outputs": [],
   "source": []
  }
 ],
 "metadata": {
  "kernelspec": {
   "display_name": "Python 3",
   "language": "python",
   "name": "python3"
  },
  "language_info": {
   "codemirror_mode": {
    "name": "ipython",
    "version": 3
   },
   "file_extension": ".py",
   "mimetype": "text/x-python",
   "name": "python",
   "nbconvert_exporter": "python",
   "pygments_lexer": "ipython3",
   "version": "3.13.1"
  }
 },
 "nbformat": 4,
 "nbformat_minor": 2
}
