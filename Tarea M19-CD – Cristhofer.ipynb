{
 "cells": [
  {
   "cell_type": "code",
   "execution_count": 559,
   "metadata": {},
   "outputs": [],
   "source": [
    "# Empezaremos a importar librerias que vamos a utilizar\n",
    "import pandas as pd\n",
    "import numpy as np\n",
    "import matplotlib.pyplot as plt\n",
    "import pylab as pl\n",
    "import os\n",
    "os.chdir(\"/Users/randy/OneDrive/Escritorio\")"
   ]
  },
  {
   "cell_type": "code",
   "execution_count": 560,
   "metadata": {},
   "outputs": [
    {
     "data": {
      "text/html": [
       "<div>\n",
       "<style scoped>\n",
       "    .dataframe tbody tr th:only-of-type {\n",
       "        vertical-align: middle;\n",
       "    }\n",
       "\n",
       "    .dataframe tbody tr th {\n",
       "        vertical-align: top;\n",
       "    }\n",
       "\n",
       "    .dataframe thead th {\n",
       "        text-align: right;\n",
       "    }\n",
       "</style>\n",
       "<table border=\"1\" class=\"dataframe\">\n",
       "  <thead>\n",
       "    <tr style=\"text-align: right;\">\n",
       "      <th></th>\n",
       "      <th>Periodo</th>\n",
       "      <th>GDP</th>\n",
       "    </tr>\n",
       "  </thead>\n",
       "  <tbody>\n",
       "    <tr>\n",
       "      <th>0</th>\n",
       "      <td>1960</td>\n",
       "      <td>1.304000e+10</td>\n",
       "    </tr>\n",
       "    <tr>\n",
       "      <th>1</th>\n",
       "      <td>1961</td>\n",
       "      <td>1.416000e+10</td>\n",
       "    </tr>\n",
       "    <tr>\n",
       "      <th>2</th>\n",
       "      <td>1962</td>\n",
       "      <td>1.520000e+10</td>\n",
       "    </tr>\n",
       "    <tr>\n",
       "      <th>3</th>\n",
       "      <td>1963</td>\n",
       "      <td>1.696000e+10</td>\n",
       "    </tr>\n",
       "    <tr>\n",
       "      <th>4</th>\n",
       "      <td>1964</td>\n",
       "      <td>2.008000e+10</td>\n",
       "    </tr>\n",
       "  </tbody>\n",
       "</table>\n",
       "</div>"
      ],
      "text/plain": [
       "   Periodo           GDP\n",
       "0     1960  1.304000e+10\n",
       "1     1961  1.416000e+10\n",
       "2     1962  1.520000e+10\n",
       "3     1963  1.696000e+10\n",
       "4     1964  2.008000e+10"
      ]
     },
     "execution_count": 560,
     "metadata": {},
     "output_type": "execute_result"
    }
   ],
   "source": [
    "# Cargamos el archivo en un DATAFRAME\n",
    "df = pd.read_excel(\"Mexico GDP.xlsx\")\n",
    "df.head()"
   ]
  },
  {
   "cell_type": "code",
   "execution_count": 561,
   "metadata": {},
   "outputs": [
    {
     "data": {
      "text/html": [
       "<div>\n",
       "<style scoped>\n",
       "    .dataframe tbody tr th:only-of-type {\n",
       "        vertical-align: middle;\n",
       "    }\n",
       "\n",
       "    .dataframe tbody tr th {\n",
       "        vertical-align: top;\n",
       "    }\n",
       "\n",
       "    .dataframe thead th {\n",
       "        text-align: right;\n",
       "    }\n",
       "</style>\n",
       "<table border=\"1\" class=\"dataframe\">\n",
       "  <thead>\n",
       "    <tr style=\"text-align: right;\">\n",
       "      <th></th>\n",
       "      <th>Periodo</th>\n",
       "      <th>GDP</th>\n",
       "    </tr>\n",
       "  </thead>\n",
       "  <tbody>\n",
       "    <tr>\n",
       "      <th>count</th>\n",
       "      <td>62.000000</td>\n",
       "      <td>6.200000e+01</td>\n",
       "    </tr>\n",
       "    <tr>\n",
       "      <th>mean</th>\n",
       "      <td>1990.500000</td>\n",
       "      <td>4.866155e+11</td>\n",
       "    </tr>\n",
       "    <tr>\n",
       "      <th>std</th>\n",
       "      <td>18.041619</td>\n",
       "      <td>4.544804e+11</td>\n",
       "    </tr>\n",
       "    <tr>\n",
       "      <th>min</th>\n",
       "      <td>1960.000000</td>\n",
       "      <td>1.304000e+10</td>\n",
       "    </tr>\n",
       "    <tr>\n",
       "      <th>25%</th>\n",
       "      <td>1975.250000</td>\n",
       "      <td>8.336062e+10</td>\n",
       "    </tr>\n",
       "    <tr>\n",
       "      <th>50%</th>\n",
       "      <td>1990.500000</td>\n",
       "      <td>2.885511e+11</td>\n",
       "    </tr>\n",
       "    <tr>\n",
       "      <th>75%</th>\n",
       "      <td>2005.750000</td>\n",
       "      <td>8.944031e+11</td>\n",
       "    </tr>\n",
       "    <tr>\n",
       "      <th>max</th>\n",
       "      <td>2021.000000</td>\n",
       "      <td>1.315351e+12</td>\n",
       "    </tr>\n",
       "  </tbody>\n",
       "</table>\n",
       "</div>"
      ],
      "text/plain": [
       "           Periodo           GDP\n",
       "count    62.000000  6.200000e+01\n",
       "mean   1990.500000  4.866155e+11\n",
       "std      18.041619  4.544804e+11\n",
       "min    1960.000000  1.304000e+10\n",
       "25%    1975.250000  8.336062e+10\n",
       "50%    1990.500000  2.885511e+11\n",
       "75%    2005.750000  8.944031e+11\n",
       "max    2021.000000  1.315351e+12"
      ]
     },
     "execution_count": 561,
     "metadata": {},
     "output_type": "execute_result"
    }
   ],
   "source": [
    "# VIsualizamos un poco el contenido de las varibles \n",
    "df.describe()"
   ]
  },
  {
   "cell_type": "code",
   "execution_count": 562,
   "metadata": {},
   "outputs": [
    {
     "data": {
      "text/html": [
       "<div>\n",
       "<style scoped>\n",
       "    .dataframe tbody tr th:only-of-type {\n",
       "        vertical-align: middle;\n",
       "    }\n",
       "\n",
       "    .dataframe tbody tr th {\n",
       "        vertical-align: top;\n",
       "    }\n",
       "\n",
       "    .dataframe thead th {\n",
       "        text-align: right;\n",
       "    }\n",
       "</style>\n",
       "<table border=\"1\" class=\"dataframe\">\n",
       "  <thead>\n",
       "    <tr style=\"text-align: right;\">\n",
       "      <th></th>\n",
       "      <th>Periodo</th>\n",
       "      <th>GDP</th>\n",
       "    </tr>\n",
       "  </thead>\n",
       "  <tbody>\n",
       "    <tr>\n",
       "      <th>count</th>\n",
       "      <td>62.000000</td>\n",
       "      <td>62.000000</td>\n",
       "    </tr>\n",
       "    <tr>\n",
       "      <th>mean</th>\n",
       "      <td>0.984908</td>\n",
       "      <td>0.369951</td>\n",
       "    </tr>\n",
       "    <tr>\n",
       "      <th>std</th>\n",
       "      <td>0.008927</td>\n",
       "      <td>0.345520</td>\n",
       "    </tr>\n",
       "    <tr>\n",
       "      <th>min</th>\n",
       "      <td>0.969817</td>\n",
       "      <td>0.009914</td>\n",
       "    </tr>\n",
       "    <tr>\n",
       "      <th>25%</th>\n",
       "      <td>0.977363</td>\n",
       "      <td>0.063375</td>\n",
       "    </tr>\n",
       "    <tr>\n",
       "      <th>50%</th>\n",
       "      <td>0.984908</td>\n",
       "      <td>0.219372</td>\n",
       "    </tr>\n",
       "    <tr>\n",
       "      <th>75%</th>\n",
       "      <td>0.992454</td>\n",
       "      <td>0.679973</td>\n",
       "    </tr>\n",
       "    <tr>\n",
       "      <th>max</th>\n",
       "      <td>1.000000</td>\n",
       "      <td>1.000000</td>\n",
       "    </tr>\n",
       "  </tbody>\n",
       "</table>\n",
       "</div>"
      ],
      "text/plain": [
       "         Periodo        GDP\n",
       "count  62.000000  62.000000\n",
       "mean    0.984908   0.369951\n",
       "std     0.008927   0.345520\n",
       "min     0.969817   0.009914\n",
       "25%     0.977363   0.063375\n",
       "50%     0.984908   0.219372\n",
       "75%     0.992454   0.679973\n",
       "max     1.000000   1.000000"
      ]
     },
     "execution_count": 562,
     "metadata": {},
     "output_type": "execute_result"
    }
   ],
   "source": [
    "# Normalizacion\n",
    "ndf = df / df.max()\n",
    "ndf.describe()"
   ]
  },
  {
   "cell_type": "code",
   "execution_count": 563,
   "metadata": {},
   "outputs": [
    {
     "data": {
      "text/plain": [
       "<function matplotlib.pyplot.show(close=None, block=None)>"
      ]
     },
     "execution_count": 563,
     "metadata": {},
     "output_type": "execute_result"
    },
    {
     "data": {
      "image/png": "[encoded data removed]",
      "text/plain": [
       "<Figure size 640x480 with 1 Axes>"
      ]
     },
     "metadata": {},
     "output_type": "display_data"
    }
   ],
   "source": [
    "# Visualizaremos si existe una relacion entre las variables\n",
    "plt.scatter(ndf.Periodo, ndf.GDP, color='green')\n",
    "plt.xlabel('Periodo')\n",
    "plt.ylabel('PIB')\n",
    "plt.show"
   ]
  },
  {
   "cell_type": "code",
   "execution_count": 564,
   "metadata": {},
   "outputs": [
    {
     "data": {
      "text/plain": [
       "array([ True,  True,  True, False,  True,  True,  True,  True,  True,\n",
       "       False, False,  True,  True,  True, False,  True,  True, False,\n",
       "       False,  True, False,  True,  True,  True,  True,  True,  True,\n",
       "        True, False, False,  True,  True,  True,  True,  True,  True,\n",
       "        True,  True, False,  True, False,  True,  True,  True,  True,\n",
       "        True, False,  True,  True,  True,  True,  True,  True, False,\n",
       "        True,  True,  True,  True, False,  True,  True,  True])"
      ]
     },
     "execution_count": 564,
     "metadata": {},
     "output_type": "execute_result"
    }
   ],
   "source": [
    "# Aremos la variable de entrenamiento (TEST)\n",
    "# Con la libreria PANDAS tomaremos la herramienta RANDOM para que tome elementos aleatorios\n",
    "# y con la instruccion RAND le pedimos que tome numeros asosciadoos a la LONG de nuestro DATAFRAME\n",
    "# Y que solo tome el 80% de la base completa\n",
    "msk = np.random.rand(len(ndf)) <=0.80\n",
    "msk"
   ]
  },
  {
   "cell_type": "code",
   "execution_count": 565,
   "metadata": {},
   "outputs": [
    {
     "data": {
      "text/html": [
       "<div>\n",
       "<style scoped>\n",
       "    .dataframe tbody tr th:only-of-type {\n",
       "        vertical-align: middle;\n",
       "    }\n",
       "\n",
       "    .dataframe tbody tr th {\n",
       "        vertical-align: top;\n",
       "    }\n",
       "\n",
       "    .dataframe thead th {\n",
       "        text-align: right;\n",
       "    }\n",
       "</style>\n",
       "<table border=\"1\" class=\"dataframe\">\n",
       "  <thead>\n",
       "    <tr style=\"text-align: right;\">\n",
       "      <th></th>\n",
       "      <th>Periodo</th>\n",
       "      <th>GDP</th>\n",
       "    </tr>\n",
       "  </thead>\n",
       "  <tbody>\n",
       "    <tr>\n",
       "      <th>0</th>\n",
       "      <td>0.969817</td>\n",
       "      <td>0.009914</td>\n",
       "    </tr>\n",
       "    <tr>\n",
       "      <th>1</th>\n",
       "      <td>0.970312</td>\n",
       "      <td>0.010765</td>\n",
       "    </tr>\n",
       "    <tr>\n",
       "      <th>2</th>\n",
       "      <td>0.970807</td>\n",
       "      <td>0.011556</td>\n",
       "    </tr>\n",
       "    <tr>\n",
       "      <th>4</th>\n",
       "      <td>0.971796</td>\n",
       "      <td>0.015266</td>\n",
       "    </tr>\n",
       "    <tr>\n",
       "      <th>5</th>\n",
       "      <td>0.972291</td>\n",
       "      <td>0.016604</td>\n",
       "    </tr>\n",
       "    <tr>\n",
       "      <th>6</th>\n",
       "      <td>0.972786</td>\n",
       "      <td>0.018489</td>\n",
       "    </tr>\n",
       "    <tr>\n",
       "      <th>7</th>\n",
       "      <td>0.973281</td>\n",
       "      <td>0.020192</td>\n",
       "    </tr>\n",
       "    <tr>\n",
       "      <th>8</th>\n",
       "      <td>0.973775</td>\n",
       "      <td>0.022321</td>\n",
       "    </tr>\n",
       "    <tr>\n",
       "      <th>11</th>\n",
       "      <td>0.975260</td>\n",
       "      <td>0.029802</td>\n",
       "    </tr>\n",
       "    <tr>\n",
       "      <th>12</th>\n",
       "      <td>0.975755</td>\n",
       "      <td>0.034363</td>\n",
       "    </tr>\n",
       "    <tr>\n",
       "      <th>13</th>\n",
       "      <td>0.976249</td>\n",
       "      <td>0.042027</td>\n",
       "    </tr>\n",
       "    <tr>\n",
       "      <th>15</th>\n",
       "      <td>0.977239</td>\n",
       "      <td>0.066902</td>\n",
       "    </tr>\n",
       "    <tr>\n",
       "      <th>16</th>\n",
       "      <td>0.977734</td>\n",
       "      <td>0.067682</td>\n",
       "    </tr>\n",
       "    <tr>\n",
       "      <th>19</th>\n",
       "      <td>0.979218</td>\n",
       "      <td>0.102301</td>\n",
       "    </tr>\n",
       "    <tr>\n",
       "      <th>21</th>\n",
       "      <td>0.980208</td>\n",
       "      <td>0.200676</td>\n",
       "    </tr>\n",
       "    <tr>\n",
       "      <th>22</th>\n",
       "      <td>0.980703</td>\n",
       "      <td>0.140350</td>\n",
       "    </tr>\n",
       "    <tr>\n",
       "      <th>23</th>\n",
       "      <td>0.981197</td>\n",
       "      <td>0.118721</td>\n",
       "    </tr>\n",
       "    <tr>\n",
       "      <th>24</th>\n",
       "      <td>0.981692</td>\n",
       "      <td>0.140085</td>\n",
       "    </tr>\n",
       "    <tr>\n",
       "      <th>25</th>\n",
       "      <td>0.982187</td>\n",
       "      <td>0.148416</td>\n",
       "    </tr>\n",
       "    <tr>\n",
       "      <th>26</th>\n",
       "      <td>0.982682</td>\n",
       "      <td>0.102292</td>\n",
       "    </tr>\n",
       "    <tr>\n",
       "      <th>27</th>\n",
       "      <td>0.983177</td>\n",
       "      <td>0.112168</td>\n",
       "    </tr>\n",
       "    <tr>\n",
       "      <th>30</th>\n",
       "      <td>0.984661</td>\n",
       "      <td>0.198619</td>\n",
       "    </tr>\n",
       "    <tr>\n",
       "      <th>31</th>\n",
       "      <td>0.985156</td>\n",
       "      <td>0.238068</td>\n",
       "    </tr>\n",
       "    <tr>\n",
       "      <th>32</th>\n",
       "      <td>0.985651</td>\n",
       "      <td>0.276092</td>\n",
       "    </tr>\n",
       "    <tr>\n",
       "      <th>33</th>\n",
       "      <td>0.986145</td>\n",
       "      <td>0.380686</td>\n",
       "    </tr>\n",
       "    <tr>\n",
       "      <th>34</th>\n",
       "      <td>0.986640</td>\n",
       "      <td>0.401272</td>\n",
       "    </tr>\n",
       "    <tr>\n",
       "      <th>35</th>\n",
       "      <td>0.987135</td>\n",
       "      <td>0.273747</td>\n",
       "    </tr>\n",
       "    <tr>\n",
       "      <th>36</th>\n",
       "      <td>0.987630</td>\n",
       "      <td>0.312446</td>\n",
       "    </tr>\n",
       "    <tr>\n",
       "      <th>37</th>\n",
       "      <td>0.988125</td>\n",
       "      <td>0.380441</td>\n",
       "    </tr>\n",
       "    <tr>\n",
       "      <th>39</th>\n",
       "      <td>0.989114</td>\n",
       "      <td>0.456329</td>\n",
       "    </tr>\n",
       "    <tr>\n",
       "      <th>41</th>\n",
       "      <td>0.990104</td>\n",
       "      <td>0.575288</td>\n",
       "    </tr>\n",
       "    <tr>\n",
       "      <th>42</th>\n",
       "      <td>0.990599</td>\n",
       "      <td>0.586996</td>\n",
       "    </tr>\n",
       "    <tr>\n",
       "      <th>43</th>\n",
       "      <td>0.991094</td>\n",
       "      <td>0.554480</td>\n",
       "    </tr>\n",
       "    <tr>\n",
       "      <th>44</th>\n",
       "      <td>0.991588</td>\n",
       "      <td>0.594701</td>\n",
       "    </tr>\n",
       "    <tr>\n",
       "      <th>45</th>\n",
       "      <td>0.992083</td>\n",
       "      <td>0.667104</td>\n",
       "    </tr>\n",
       "    <tr>\n",
       "      <th>47</th>\n",
       "      <td>0.993073</td>\n",
       "      <td>0.800316</td>\n",
       "    </tr>\n",
       "    <tr>\n",
       "      <th>48</th>\n",
       "      <td>0.993568</td>\n",
       "      <td>0.843873</td>\n",
       "    </tr>\n",
       "    <tr>\n",
       "      <th>49</th>\n",
       "      <td>0.994062</td>\n",
       "      <td>0.684262</td>\n",
       "    </tr>\n",
       "    <tr>\n",
       "      <th>50</th>\n",
       "      <td>0.994557</td>\n",
       "      <td>0.804197</td>\n",
       "    </tr>\n",
       "    <tr>\n",
       "      <th>51</th>\n",
       "      <td>0.995052</td>\n",
       "      <td>0.897471</td>\n",
       "    </tr>\n",
       "    <tr>\n",
       "      <th>52</th>\n",
       "      <td>0.995547</td>\n",
       "      <td>0.913133</td>\n",
       "    </tr>\n",
       "    <tr>\n",
       "      <th>54</th>\n",
       "      <td>0.996536</td>\n",
       "      <td>1.000000</td>\n",
       "    </tr>\n",
       "    <tr>\n",
       "      <th>55</th>\n",
       "      <td>0.997031</td>\n",
       "      <td>0.890916</td>\n",
       "    </tr>\n",
       "    <tr>\n",
       "      <th>56</th>\n",
       "      <td>0.997526</td>\n",
       "      <td>0.819926</td>\n",
       "    </tr>\n",
       "    <tr>\n",
       "      <th>57</th>\n",
       "      <td>0.998021</td>\n",
       "      <td>0.881067</td>\n",
       "    </tr>\n",
       "    <tr>\n",
       "      <th>59</th>\n",
       "      <td>0.999010</td>\n",
       "      <td>0.965069</td>\n",
       "    </tr>\n",
       "    <tr>\n",
       "      <th>60</th>\n",
       "      <td>0.999505</td>\n",
       "      <td>0.826485</td>\n",
       "    </tr>\n",
       "    <tr>\n",
       "      <th>61</th>\n",
       "      <td>1.000000</td>\n",
       "      <td>0.983036</td>\n",
       "    </tr>\n",
       "  </tbody>\n",
       "</table>\n",
       "</div>"
      ],
      "text/plain": [
       "     Periodo       GDP\n",
       "0   0.969817  0.009914\n",
       "1   0.970312  0.010765\n",
       "2   0.970807  0.011556\n",
       "4   0.971796  0.015266\n",
       "5   0.972291  0.016604\n",
       "6   0.972786  0.018489\n",
       "7   0.973281  0.020192\n",
       "8   0.973775  0.022321\n",
       "11  0.975260  0.029802\n",
       "12  0.975755  0.034363\n",
       "13  0.976249  0.042027\n",
       "15  0.977239  0.066902\n",
       "16  0.977734  0.067682\n",
       "19  0.979218  0.102301\n",
       "21  0.980208  0.200676\n",
       "22  0.980703  0.140350\n",
       "23  0.981197  0.118721\n",
       "24  0.981692  0.140085\n",
       "25  0.982187  0.148416\n",
       "26  0.982682  0.102292\n",
       "27  0.983177  0.112168\n",
       "30  0.984661  0.198619\n",
       "31  0.985156  0.238068\n",
       "32  0.985651  0.276092\n",
       "33  0.986145  0.380686\n",
       "34  0.986640  0.401272\n",
       "35  0.987135  0.273747\n",
       "36  0.987630  0.312446\n",
       "37  0.988125  0.380441\n",
       "39  0.989114  0.456329\n",
       "41  0.990104  0.575288\n",
       "42  0.990599  0.586996\n",
       "43  0.991094  0.554480\n",
       "44  0.991588  0.594701\n",
       "45  0.992083  0.667104\n",
       "47  0.993073  0.800316\n",
       "48  0.993568  0.843873\n",
       "49  0.994062  0.684262\n",
       "50  0.994557  0.804197\n",
       "51  0.995052  0.897471\n",
       "52  0.995547  0.913133\n",
       "54  0.996536  1.000000\n",
       "55  0.997031  0.890916\n",
       "56  0.997526  0.819926\n",
       "57  0.998021  0.881067\n",
       "59  0.999010  0.965069\n",
       "60  0.999505  0.826485\n",
       "61  1.000000  0.983036"
      ]
     },
     "execution_count": 565,
     "metadata": {},
     "output_type": "execute_result"
    }
   ],
   "source": [
    "# Ahora creamos la Variable de ENTRENAMIENTO (TRAINING) Y LA VISUALIZAMOS \n",
    "train = ndf[msk]\n",
    "train"
   ]
  },
  {
   "cell_type": "code",
   "execution_count": 566,
   "metadata": {},
   "outputs": [
    {
     "data": {
      "text/html": [
       "<div>\n",
       "<style scoped>\n",
       "    .dataframe tbody tr th:only-of-type {\n",
       "        vertical-align: middle;\n",
       "    }\n",
       "\n",
       "    .dataframe tbody tr th {\n",
       "        vertical-align: top;\n",
       "    }\n",
       "\n",
       "    .dataframe thead th {\n",
       "        text-align: right;\n",
       "    }\n",
       "</style>\n",
       "<table border=\"1\" class=\"dataframe\">\n",
       "  <thead>\n",
       "    <tr style=\"text-align: right;\">\n",
       "      <th></th>\n",
       "      <th>Periodo</th>\n",
       "      <th>GDP</th>\n",
       "    </tr>\n",
       "  </thead>\n",
       "  <tbody>\n",
       "    <tr>\n",
       "      <th>3</th>\n",
       "      <td>0.971301</td>\n",
       "      <td>0.012894</td>\n",
       "    </tr>\n",
       "    <tr>\n",
       "      <th>9</th>\n",
       "      <td>0.974270</td>\n",
       "      <td>0.024693</td>\n",
       "    </tr>\n",
       "    <tr>\n",
       "      <th>10</th>\n",
       "      <td>0.974765</td>\n",
       "      <td>0.027004</td>\n",
       "    </tr>\n",
       "    <tr>\n",
       "      <th>14</th>\n",
       "      <td>0.976744</td>\n",
       "      <td>0.054738</td>\n",
       "    </tr>\n",
       "    <tr>\n",
       "      <th>17</th>\n",
       "      <td>0.978229</td>\n",
       "      <td>0.062199</td>\n",
       "    </tr>\n",
       "    <tr>\n",
       "      <th>18</th>\n",
       "      <td>0.978723</td>\n",
       "      <td>0.077926</td>\n",
       "    </tr>\n",
       "    <tr>\n",
       "      <th>20</th>\n",
       "      <td>0.979713</td>\n",
       "      <td>0.155958</td>\n",
       "    </tr>\n",
       "    <tr>\n",
       "      <th>28</th>\n",
       "      <td>0.983671</td>\n",
       "      <td>0.138071</td>\n",
       "    </tr>\n",
       "    <tr>\n",
       "      <th>29</th>\n",
       "      <td>0.984166</td>\n",
       "      <td>0.168321</td>\n",
       "    </tr>\n",
       "    <tr>\n",
       "      <th>38</th>\n",
       "      <td>0.988619</td>\n",
       "      <td>0.400275</td>\n",
       "    </tr>\n",
       "    <tr>\n",
       "      <th>40</th>\n",
       "      <td>0.989609</td>\n",
       "      <td>0.538188</td>\n",
       "    </tr>\n",
       "    <tr>\n",
       "      <th>46</th>\n",
       "      <td>0.992578</td>\n",
       "      <td>0.741541</td>\n",
       "    </tr>\n",
       "    <tr>\n",
       "      <th>53</th>\n",
       "      <td>0.996042</td>\n",
       "      <td>0.968899</td>\n",
       "    </tr>\n",
       "    <tr>\n",
       "      <th>58</th>\n",
       "      <td>0.998516</td>\n",
       "      <td>0.929340</td>\n",
       "    </tr>\n",
       "  </tbody>\n",
       "</table>\n",
       "</div>"
      ],
      "text/plain": [
       "     Periodo       GDP\n",
       "3   0.971301  0.012894\n",
       "9   0.974270  0.024693\n",
       "10  0.974765  0.027004\n",
       "14  0.976744  0.054738\n",
       "17  0.978229  0.062199\n",
       "18  0.978723  0.077926\n",
       "20  0.979713  0.155958\n",
       "28  0.983671  0.138071\n",
       "29  0.984166  0.168321\n",
       "38  0.988619  0.400275\n",
       "40  0.989609  0.538188\n",
       "46  0.992578  0.741541\n",
       "53  0.996042  0.968899\n",
       "58  0.998516  0.929340"
      ]
     },
     "execution_count": 566,
     "metadata": {},
     "output_type": "execute_result"
    }
   ],
   "source": [
    "# creamos ahora la variable de PRUEBA (TEST) con el restante de datos \n",
    "test = ndf[~msk]\n",
    "test "
   ]
  },
  {
   "cell_type": "code",
   "execution_count": 567,
   "metadata": {},
   "outputs": [
    {
     "data": {
      "text/html": [
       "<style>#sk-container-id-18 {color: black;}#sk-container-id-18 pre{padding: 0;}#sk-container-id-18 div.sk-toggleable {background-color: white;}#sk-container-id-18 label.sk-toggleable__label {cursor: pointer;display: block;width: 100%;margin-bottom: 0;padding: 0.3em;box-sizing: border-box;text-align: center;}#sk-container-id-18 label.sk-toggleable__label-arrow:before {content: \"▸\";float: left;margin-right: 0.25em;color: #696969;}#sk-container-id-18 label.sk-toggleable__label-arrow:hover:before {color: black;}#sk-container-id-18 div.sk-estimator:hover label.sk-toggleable__label-arrow:before {color: black;}#sk-container-id-18 div.sk-toggleable__content {max-height: 0;max-width: 0;overflow: hidden;text-align: left;background-color: #f0f8ff;}#sk-container-id-18 div.sk-toggleable__content pre {margin: 0.2em;color: black;border-radius: 0.25em;background-color: #f0f8ff;}#sk-container-id-18 input.sk-toggleable__control:checked~div.sk-toggleable__content {max-height: 200px;max-width: 100%;overflow: auto;}#sk-container-id-18 input.sk-toggleable__control:checked~label.sk-toggleable__label-arrow:before {content: \"▾\";}#sk-container-id-18 div.sk-estimator input.sk-toggleable__control:checked~label.sk-toggleable__label {background-color: #d4ebff;}#sk-container-id-18 div.sk-label input.sk-toggleable__control:checked~label.sk-toggleable__label {background-color: #d4ebff;}#sk-container-id-18 input.sk-hidden--visually {border: 0;clip: rect(1px 1px 1px 1px);clip: rect(1px, 1px, 1px, 1px);height: 1px;margin: -1px;overflow: hidden;padding: 0;position: absolute;width: 1px;}#sk-container-id-18 div.sk-estimator {font-family: monospace;background-color: #f0f8ff;border: 1px dotted black;border-radius: 0.25em;box-sizing: border-box;margin-bottom: 0.5em;}#sk-container-id-18 div.sk-estimator:hover {background-color: #d4ebff;}#sk-container-id-18 div.sk-parallel-item::after {content: \"\";width: 100%;border-bottom: 1px solid gray;flex-grow: 1;}#sk-container-id-18 div.sk-label:hover label.sk-toggleable__label {background-color: #d4ebff;}#sk-container-id-18 div.sk-serial::before {content: \"\";position: absolute;border-left: 1px solid gray;box-sizing: border-box;top: 0;bottom: 0;left: 50%;z-index: 0;}#sk-container-id-18 div.sk-serial {display: flex;flex-direction: column;align-items: center;background-color: white;padding-right: 0.2em;padding-left: 0.2em;position: relative;}#sk-container-id-18 div.sk-item {position: relative;z-index: 1;}#sk-container-id-18 div.sk-parallel {display: flex;align-items: stretch;justify-content: center;background-color: white;position: relative;}#sk-container-id-18 div.sk-item::before, #sk-container-id-18 div.sk-parallel-item::before {content: \"\";position: absolute;border-left: 1px solid gray;box-sizing: border-box;top: 0;bottom: 0;left: 50%;z-index: -1;}#sk-container-id-18 div.sk-parallel-item {display: flex;flex-direction: column;z-index: 1;position: relative;background-color: white;}#sk-container-id-18 div.sk-parallel-item:first-child::after {align-self: flex-end;width: 50%;}#sk-container-id-18 div.sk-parallel-item:last-child::after {align-self: flex-start;width: 50%;}#sk-container-id-18 div.sk-parallel-item:only-child::after {width: 0;}#sk-container-id-18 div.sk-dashed-wrapped {border: 1px dashed gray;margin: 0 0.4em 0.5em 0.4em;box-sizing: border-box;padding-bottom: 0.4em;background-color: white;}#sk-container-id-18 div.sk-label label {font-family: monospace;font-weight: bold;display: inline-block;line-height: 1.2em;}#sk-container-id-18 div.sk-label-container {text-align: center;}#sk-container-id-18 div.sk-container {/* jupyter's `normalize.less` sets `[hidden] { display: none; }` but bootstrap.min.css set `[hidden] { display: none !important; }` so we also need the `!important` here to be able to override the default hidden behavior on the sphinx rendered scikit-learn.org. See: https://github.com/scikit-learn/scikit-learn/issues/21755 */display: inline-block !important;position: relative;}#sk-container-id-18 div.sk-text-repr-fallback {display: none;}</style><div id=\"sk-container-id-18\" class=\"sk-top-container\"><div class=\"sk-text-repr-fallback\"><pre>LinearRegression()</pre><b>In a Jupyter environment, please rerun this cell to show the HTML representation or trust the notebook. <br />On GitHub, the HTML representation is unable to render, please try loading this page with nbviewer.org.</b></div><div class=\"sk-container\" hidden><div class=\"sk-item\"><div class=\"sk-estimator sk-toggleable\"><input class=\"sk-toggleable__control sk-hidden--visually\" id=\"sk-estimator-id-18\" type=\"checkbox\" checked><label for=\"sk-estimator-id-18\" class=\"sk-toggleable__label sk-toggleable__label-arrow\">LinearRegression</label><div class=\"sk-toggleable__content\"><pre>LinearRegression()</pre></div></div></div></div></div>"
      ],
      "text/plain": [
       "LinearRegression()"
      ]
     },
     "execution_count": 567,
     "metadata": {},
     "output_type": "execute_result"
    }
   ],
   "source": [
    "# Ahora aremos el Modelo de regresion lineal simple para que nos traze una linea recta buscando el punto medio relacional de las variables\n",
    "# Importaremos la libreria Skilearn para nos de el modelo lineal que queremos utilizar\n",
    "# Asignamos las variables X de entrenamiento con un ARREGLO FORZOSAMENTE 'np.asaynarray'\n",
    "# Despues hacemos lo mismo para la variable Y \n",
    "# Por ultimo realizamos el ajuste con .FIT propio de la liberia\n",
    "from sklearn import linear_model\n",
    "regr = linear_model.LinearRegression()\n",
    "train_x = np.asanyarray(train[['Periodo']])\n",
    "train_y = np.asanyarray(train[['GDP']])\n",
    "regr.fit (train_x, train_y)"
   ]
  },
  {
   "cell_type": "code",
   "execution_count": 568,
   "metadata": {},
   "outputs": [
    {
     "name": "stdout",
     "output_type": "stream",
     "text": [
      "Coeficiente de Pendiente [[36.24320606]]\n",
      "Coeficiente de Intercepto [-35.32441014]\n"
     ]
    }
   ],
   "source": [
    "# Ahora imprimiremos el COEFICIENTE de la regresion\n",
    "# Y el COEFICIENTE del intercepto\n",
    "print('Coeficiente de Pendiente', regr.coef_)\n",
    "print('Coeficiente de Intercepto', regr.intercept_)"
   ]
  },
  {
   "cell_type": "code",
   "execution_count": 569,
   "metadata": {},
   "outputs": [
    {
     "data": {
      "text/plain": [
       "<function matplotlib.pyplot.show(close=None, block=None)>"
      ]
     },
     "execution_count": 569,
     "metadata": {},
     "output_type": "execute_result"
    },
    {
     "data": {
      "image/png": "[encoded data removed]",
      "text/plain": [
       "<Figure size 640x480 with 1 Axes>"
      ]
     },
     "metadata": {},
     "output_type": "display_data"
    }
   ],
   "source": [
    "# Ahora aremos la graficacion con estos dos valores que obtuvimos\n",
    "# vamos a utilizar los coeficientes \n",
    "# en primer estancia estamos tomando el valor de la pendiente regr.coef_[0][0] multiplicado por las X train_x mas el valor del Intercepto regr.intercept_[0]\n",
    "# Indicando que quiero unir una recta ('-r')\n",
    "plt.scatter(train.Periodo, train.GDP, color='green')\n",
    "plt.plot(train_x, regr.coef_[0][0]*train_x + regr.intercept_[0], '-r')\n",
    "plt.xlabel('Periodo')\n",
    "plt.ylabel('PIB')\n",
    "plt.show"
   ]
  },
  {
   "cell_type": "code",
   "execution_count": 570,
   "metadata": {},
   "outputs": [],
   "source": [
    "# Importamos la herramienta R2_score de la libreria sklearn\n",
    "# Y ahora vamos a definir los datos de Prueba TEST\n",
    "# Hay que compararlo con nuestro modelo de regresion hast (significa a un aproximado)\n",
    "# \n",
    "from sklearn.metrics import r2_score\n",
    "test_x = np.asanyarray(test[['Periodo']])\n",
    "test_y = np.asanyarray(test[['GDP']])\n",
    "test_y_hat = regr.predict(test_x)#Utilizamos la variable de regresion con el comando PREDICT vamos a predecir\n",
    "#cual es la 'Y' a cada una de nuestras 'X' que tenemos en nuestro grupo de prueba"
   ]
  },
  {
   "cell_type": "code",
   "execution_count": 571,
   "metadata": {},
   "outputs": [
    {
     "data": {
      "text/plain": [
       "array([[-0.12133567],\n",
       "       [-0.01373585],\n",
       "       [ 0.00419745],\n",
       "       [ 0.07593066],\n",
       "       [ 0.12973057],\n",
       "       [ 0.14766388],\n",
       "       [ 0.18353048],\n",
       "       [ 0.32699691],\n",
       "       [ 0.34493021],\n",
       "       [ 0.50632994],\n",
       "       [ 0.54219655],\n",
       "       [ 0.64979637],\n",
       "       [ 0.77532949],\n",
       "       [ 0.86499601]])"
      ]
     },
     "execution_count": 571,
     "metadata": {},
     "output_type": "execute_result"
    }
   ],
   "source": [
    "test_y_hat"
   ]
  },
  {
   "cell_type": "code",
   "execution_count": 572,
   "metadata": {},
   "outputs": [
    {
     "data": {
      "text/plain": [
       "array([[0.01289389],\n",
       "       [0.02469303],\n",
       "       [0.0270042 ],\n",
       "       [0.05473823],\n",
       "       [0.06219948],\n",
       "       [0.07792596],\n",
       "       [0.15595766],\n",
       "       [0.13807077],\n",
       "       [0.16832058],\n",
       "       [0.40027495],\n",
       "       [0.5381884 ],\n",
       "       [0.74154123],\n",
       "       [0.96889949],\n",
       "       [0.9293398 ]])"
      ]
     },
     "execution_count": 572,
     "metadata": {},
     "output_type": "execute_result"
    }
   ],
   "source": [
    "test_y"
   ]
  },
  {
   "cell_type": "code",
   "execution_count": 573,
   "metadata": {},
   "outputs": [
    {
     "name": "stdout",
     "output_type": "stream",
     "text": [
      "Mean absolute error:  0\n",
      "Residual sum of squares (MSE):  0\n",
      "R2-score:  1\n"
     ]
    }
   ],
   "source": [
    "# Vamos a calcular 3 inidcadores \n",
    "# 'Error absoluto medio'\n",
    "# 'La suma de residuales' suma de los errores al cruadrado\n",
    "# 'r2' para tener el desempeño maximo de uno \n",
    "# para el primer caso estamos indicando que queremos dos Decimales (%2.f) \n",
    "print('Mean absolute error: %2.f' % np.mean(np.absolute(test_y_hat - test_y)))#Calculamos la diferencia de TEST_Y_HAT contra test_y\n",
    "print('Residual sum of squares (MSE): %2.f' % np.mean((test_y_hat - test_y) ** 2))# diferencia de test_y_hat y test_y elevandolas al cuadrado\n",
    "print('R2-score: %2.f' % r2_score(test_y_hat, test_y))"
   ]
  },
  {
   "cell_type": "code",
   "execution_count": 574,
   "metadata": {},
   "outputs": [],
   "source": [
    "# Creamos una funcion con el nombre Pol_grado1 Con los parametros 'X', 'beta_0', 'beta_1'\n",
    "# donde 'Y' sera el resultado de beta_0 + beta_1 * x\n",
    "# y que nos retorne 'Y'\n",
    "def pol_grado1(x, beta_0, beta_1):\n",
    "    y = beta_0 + beta_1 * x\n",
    "    return y"
   ]
  },
  {
   "cell_type": "code",
   "execution_count": 575,
   "metadata": {},
   "outputs": [],
   "source": [
    "# ahora hacemos un arreglo de valores de 'X' que va de '-5' hasta '5', con incrementos de punto 1 en punto 1\n",
    "# Para poder obtener los valores consecuentes de la variable 'y'\n",
    "# Y damos los valores de los parametetros de la funcion 'pol_grado1'\n",
    "# Agregamos 'Ruido Blanco' donde cada 'Y' tendra este ruido de froma aleatoria\n",
    "# size es igual a x eso significa que el ruido blanco sera del mismo tamaño que los valores de x\n",
    "x = np.arange(-5.0, 5.0, 0.1)\n",
    "y = pol_grado1(x, 3, 2)\n",
    "y_noise = np.random.normal(0, 1, size=x.size)\n",
    "ydata = y + y_noise"
   ]
  },
  {
   "cell_type": "code",
   "execution_count": 576,
   "metadata": {},
   "outputs": [
    {
     "data": {
      "text/plain": [
       "<function matplotlib.pyplot.show(close=None, block=None)>"
      ]
     },
     "execution_count": 576,
     "metadata": {},
     "output_type": "execute_result"
    },
    {
     "data": {
      "image/png": "[encoded data removed]",
      "text/plain": [
       "<Figure size 640x480 with 1 Axes>"
      ]
     },
     "metadata": {},
     "output_type": "display_data"
    }
   ],
   "source": [
    "# Ahora simularemos la grafica\n",
    "# Indicamos que queremos graficar los valores de X con los valores de 'ydata' o la suma de 'RUIDO BLANCO' \n",
    "# Y despues quiero poner la combinacion de 'X' y 'Y' tomando en cuenta la ecuacion real que hemos definido\n",
    "plt.plot(x, ydata, 'bo')\n",
    "plt.plot(x, y, 'r')\n",
    "plt.ylabel('Dependent Variable')\n",
    "plt.xlabel('Indepdendet Variable')\n",
    "plt.show"
   ]
  },
  {
   "cell_type": "code",
   "execution_count": 577,
   "metadata": {},
   "outputs": [],
   "source": [
    "# Ahora utilizaremos la Biblioteca de SCIPY que optimizar con el metodo de 'MINIMOS CUADRADOS ORDINARIOS' \n",
    "# Y obtenemos el ajuste al 'pol_grado1' sobre 'X' y los valores de 'Ydata' con los valores aleatorios para el ruido blanco\n",
    "from scipy.optimize import curve_fit\n",
    "popt, pcov = curve_fit(pol_grado1, x, ydata)"
   ]
  },
  {
   "cell_type": "markdown",
   "metadata": {},
   "source": [
    "### Fenomeno de Optimizacion busca encontrar los coeficientes, tomando en cuenta loos puntos que nosotros generamos \n",
    "### y busca encontrar los ceficientes apartir de la ecuacion realizada en la FUNCION 'pol_grado1' o el modelo que nosotros queremos ajustar"
   ]
  },
  {
   "cell_type": "code",
   "execution_count": 578,
   "metadata": {},
   "outputs": [
    {
     "name": "stdout",
     "output_type": "stream",
     "text": [
      "beta_0 2.9605643726010666 beta_1 1.9633540814750647\n"
     ]
    }
   ],
   "source": [
    "# Ahora mostraremos la ecuacion asociada a esto\n",
    "# donde POPT tiene el primero coeficiente del valor numero 1 y la del segundo coeficiente \n",
    "# Esos coeficientes son los valores de la Funcion que realizamos 'pol_grado1' \n",
    "print('beta_0', popt[0], 'beta_1', popt[1])"
   ]
  },
  {
   "cell_type": "code",
   "execution_count": 579,
   "metadata": {},
   "outputs": [
    {
     "data": {
      "image/png": "[encoded data removed]",
      "text/plain": [
       "<Figure size 640x480 with 1 Axes>"
      ]
     },
     "metadata": {},
     "output_type": "display_data"
    }
   ],
   "source": [
    "# Ahora poder dar paso al Ajuste\n",
    "# en este caso calcularemos la 'y_ajust' para este 'pol_gradpo1', con los coeficientes \n",
    "# Con la finalidad de poderlo contrastar con los puntos que originalmente teniamos para ver que tan bueno fue este ajuste.\n",
    "# Y para graficar hacemos lo sigueinte:\n",
    "# Primero graficar los punto de 'x' con los datos de 'y_data' ( que son los datos que ya tienen el error aleatorio )\n",
    "# Y despues graficar con una recta cada 'X' con la lista de ajusteS que realizamos \n",
    "y_ajust = pol_grado1(x, popt[0], popt[1])\n",
    "plt.plot(x, ydata, 'bo')\n",
    "plt.plot(x, y_ajust, 'r')\n",
    "plt.ylabel('Variable Dependiente')\n",
    "plt.xlabel('Variable Independiente')\n",
    "plt.show()"
   ]
  },
  {
   "cell_type": "code",
   "execution_count": 580,
   "metadata": {},
   "outputs": [],
   "source": [
    "# Ahora aremos un mejor ajuste llamdo (Modelo polinomial de 3er grado)\n",
    "# Aremos la Funcion llamada pol_grado3 con sus respectivos parametros\n",
    "# Y donde Y es igual al resultado de Beta_1 * x + beta_2 * (X al cuadrado) mas beta_3 * (x al cubo)\n",
    "# y que nos retorne 'Y' \n",
    "def pol_grado3(x, beta_0, beta_1, beta_2, beta_3):\n",
    "    y = beta_0 + beta_1*x + beta_2*(x**2) + beta_3*(x**3)\n",
    "    return y "
   ]
  },
  {
   "cell_type": "markdown",
   "metadata": {},
   "source": [
    "### Problemas de Polinomios, es llamado 'Over fityn' \n",
    "### cuando hacemos un polinomio de muy alto grado, por querewr pasar por todos los puntos, resulta no ser tan util como uno espera"
   ]
  },
  {
   "cell_type": "code",
   "execution_count": 581,
   "metadata": {},
   "outputs": [],
   "source": [
    "# Ahora damos los valores de los parametros: el intercepto de 3 y los coeficientes de 1 \n",
    "# Manejando ahora un incremento mas fuerte en el ruido blanco, manejando 20 veces el efecto de una normal para oder calcular mis valores \n",
    "x = np.arange(-5.0, 5.0, 0.1)\n",
    "y = pol_grado3(x, 3, 1, 1, 1)\n",
    "y_noise = 28 * np.random.normal(0,1,size=x.size)\n",
    "ydata = y + y_noise"
   ]
  },
  {
   "cell_type": "code",
   "execution_count": 582,
   "metadata": {},
   "outputs": [
    {
     "data": {
      "image/png": "[encoded data removed]",
      "text/plain": [
       "<Figure size 640x480 with 1 Axes>"
      ]
     },
     "metadata": {},
     "output_type": "display_data"
    }
   ],
   "source": [
    "# Ahora aremos la grafica con los nuevos valores y el nuevo ruido blanco que le dimos\n",
    "# de igual forma el primer eje lo ejecutamos con 'x' y el ruido blanco con su nuevo ajuste\n",
    "# \n",
    "plt.plot(x, ydata, 'bo')\n",
    "plt.plot(x,y, 'r')\n",
    "plt.ylabel('Vairable Dependiente')\n",
    "plt.xlabel('Indepdendent Variable')\n",
    "plt.show()"
   ]
  },
  {
   "cell_type": "code",
   "execution_count": 583,
   "metadata": {},
   "outputs": [
    {
     "data": {
      "text/plain": [
       "array([ True,  True,  True,  True,  True, False, False, False, False,\n",
       "        True,  True,  True,  True,  True, False,  True,  True,  True,\n",
       "        True,  True,  True,  True, False, False, False, False,  True,\n",
       "        True, False,  True,  True,  True,  True,  True,  True,  True,\n",
       "        True, False, False,  True,  True,  True,  True,  True, False,\n",
       "        True, False,  True,  True,  True,  True,  True, False,  True,\n",
       "        True,  True,  True,  True, False,  True,  True,  True,  True,\n",
       "        True,  True,  True,  True, False,  True,  True,  True,  True,\n",
       "        True,  True,  True,  True,  True,  True, False,  True,  True,\n",
       "        True,  True, False, False,  True,  True,  True, False,  True,\n",
       "        True,  True,  True,  True, False,  True, False,  True,  True,\n",
       "       False])"
      ]
     },
     "execution_count": 583,
     "metadata": {},
     "output_type": "execute_result"
    }
   ],
   "source": [
    "# Y bueno ahora empezamos a realizar nuestro muestreo para el analisis de prediccion \n",
    "# haciendo una mascara, tomando en cuenta solo el 80% de los datos del arreglo que generamos\n",
    "msk = np.random.rand(len(x)) <= 0.8\n",
    "msk"
   ]
  },
  {
   "cell_type": "code",
   "execution_count": 584,
   "metadata": {},
   "outputs": [],
   "source": [
    "# Hacemos ahora nuestros grupos de prubea y de entrenamiento\n",
    "train_x = x[msk]    # Grupo de Entrenamiento para el eje x\n",
    "test_x = x[~msk]    # Grupo de Prueba para el eje x del complemento [~msk]\n",
    "train_y = ydata[msk]    # Grupo de Entrenamiento para el eje Y\n",
    "test_y = ydata[~msk]    # Grupo de Prueba para el eje Y del complemento [~msk]"
   ]
  },
  {
   "cell_type": "code",
   "execution_count": 585,
   "metadata": {},
   "outputs": [],
   "source": [
    "# Volvemos a hacer la Optimizacion solo que ahora con lustros nuevos ajustes\n",
    "# no es necesario volver a cargar la libreria de SCPY.OPTIMIZE ya que ya se encuentra en memoria\n",
    "# colocamos nuestra nueva funcion 'pol_grado3' con nuestras variables de Entrenamiento\n",
    "popt, pcov = curve_fit(pol_grado3, train_x, train_y) "
   ]
  },
  {
   "cell_type": "code",
   "execution_count": 586,
   "metadata": {},
   "outputs": [
    {
     "name": "stdout",
     "output_type": "stream",
     "text": [
      "beta_0 =  5.074015708878847 beta_1 =  2.961477071265553 beta_2 =  1.049291945803291 beta_3 =  0.8685342943853609\n"
     ]
    }
   ],
   "source": [
    "# Ahora mostraremos los coeficientes \n",
    "# Los valores ya nos on los estimados y esto ocurrira que los valores ya no son los aproximados\n",
    "print('beta_0 = ', popt[0], 'beta_1 = ', popt[1], 'beta_2 = ', popt[2], 'beta_3 = ', popt[3])"
   ]
  },
  {
   "cell_type": "code",
   "execution_count": 587,
   "metadata": {},
   "outputs": [],
   "source": [
    "# Realizamos la prediccion\n",
    "# 'Y_hat' aplicando el polinomio de grado 3 (pol_grado3) a los datos de X (test_x) con todo el vector completo por eso utilizamos * para que tome todos los coeficientes \n",
    "# Con la finalidad de tener las metericas del error\n",
    "y_hat = pol_grado3(test_x, *popt) "
   ]
  },
  {
   "cell_type": "code",
   "execution_count": 588,
   "metadata": {},
   "outputs": [
    {
     "name": "stdout",
     "output_type": "stream",
     "text": [
      "Mean Absolute error: 19.94\n",
      "Residual sum of squares (MSE): 585.05\n",
      "R2 score: 0.82\n"
     ]
    }
   ],
   "source": [
    "# Prediccion \n",
    "print('Mean Absolute error: %.2f' % np.mean(np.absolute(y_hat - test_y)))\n",
    "print('Residual sum of squares (MSE): %.2f' % np.mean((y_hat - test_y) ** 2))\n",
    "from sklearn.metrics import r2_score\n",
    "print('R2 score: %.2f' %r2_score(y_hat, test_y))"
   ]
  },
  {
   "cell_type": "code",
   "execution_count": 589,
   "metadata": {},
   "outputs": [
    {
     "data": {
      "image/png": "[encoded data removed]",
      "text/plain": [
       "<Figure size 640x480 with 1 Axes>"
      ]
     },
     "metadata": {},
     "output_type": "display_data"
    }
   ],
   "source": [
    "# Graficamos\n",
    "plt.plot(test_x, test_y, 'bo')\n",
    "plt.plot(test_x, y_hat, 'r')\n",
    "plt.ylabel('Variable Dependiente')\n",
    "plt.xlabel('Variable Independiente')\n",
    "plt.show()"
   ]
  },
  {
   "cell_type": "code",
   "execution_count": 590,
   "metadata": {},
   "outputs": [
    {
     "name": "stdout",
     "output_type": "stream",
     "text": [
      "El PIB predicho para 2022 es: 1208155952022.32\n"
     ]
    }
   ],
   "source": [
    "# Definir coeficientes de la regresión\n",
    "beta_0 = -34.46711415\n",
    "beta_1 = 35.36811845\n",
    "\n",
    "# Normalizar el año 2022\n",
    "X_2022 = 2022 / 2021  # Normalización según el PDF\n",
    "\n",
    "# Aplicar la ecuación de la regresión\n",
    "Y_2022 = beta_0 + beta_1 * X_2022\n",
    "\n",
    "# Desnormalizar el resultado\n",
    "PIB_max = 1.315351e12  # PIB máximo en la serie original\n",
    "PIB_2022 = Y_2022 * PIB_max\n",
    "\n",
    "# Mostrar resultado\n",
    "print(f\"El PIB predicho para 2022 es: {PIB_2022:.2f}\")"
   ]
  },
  {
   "cell_type": "markdown",
   "metadata": {},
   "source": [
    "¿Obtuvo resultados satisfactorios en esta ocasión?\n",
    "\n",
    "Con el Ajuste de Polinomio de 3er grado obtuvimos mejores resultados mostrados por R2_score "
   ]
  },
  {
   "cell_type": "code",
   "execution_count": 591,
   "metadata": {},
   "outputs": [
    {
     "name": "stdout",
     "output_type": "stream",
     "text": [
      "El PIB predicho para 2022 es: 1208155952022.32\n"
     ]
    }
   ],
   "source": [
    "### ¿Cuál sería su pronóstico del PIB (GDP) para México en el 2022? \n",
    "\n",
    "print(f\"El PIB predicho para 2022 es: {PIB_2022:.2f}\")"
   ]
  },
  {
   "cell_type": "markdown",
   "metadata": {},
   "source": [
    "¿Qué mecanismo de transformación tendría que realizar en dicho caso? \n",
    "\n",
    "Para hacer una predicción del PIB en 2022 con base en el modelo ajustado en la versión normalizada, sería necesario:\n",
    "\n",
    "Usar la ecuación del modelo ajustado con los coeficientes obtenidos.\n",
    "\n",
    "Ingresar el año 2022 como el valor de entrada en la ecuación ajustada.\n",
    "\n",
    "Dado que los datos fueron normalizados, multiplicar el valor resultante por el PIB máximo registrado en la serie original para obtener la estimación en términos reales.\n"
   ]
  },
  {
   "cell_type": "markdown",
   "metadata": {},
   "source": []
  }
 ],
 "metadata": {
  "kernelspec": {
   "display_name": "Python 3 (ipykernel)",
   "language": "python",
   "name": "python3"
  },
  "language_info": {
   "codemirror_mode": {
    "name": "ipython",
    "version": 3
   },
   "file_extension": ".py",
   "mimetype": "text/x-python",
   "name": "python",
   "nbconvert_exporter": "python",
   "pygments_lexer": "ipython3",
   "version": "3.12.4"
  }
 },
 "nbformat": 4,
 "nbformat_minor": 4
}
